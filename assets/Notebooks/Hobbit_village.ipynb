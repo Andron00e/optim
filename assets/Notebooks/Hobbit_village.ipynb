{
  "nbformat": 4,
  "nbformat_minor": 0,
  "metadata": {
    "colab": {
      "provenance": [],
      "authorship_tag": "ABX9TyPnDteewfMhrwcFjt+ibIxd",
      "include_colab_link": true
    },
    "kernelspec": {
      "name": "python3",
      "display_name": "Python 3"
    },
    "language_info": {
      "name": "python"
    }
  },
  "cells": [
    {
      "cell_type": "markdown",
      "metadata": {
        "id": "view-in-github",
        "colab_type": "text"
      },
      "source": [
        "<a href=\"https://colab.research.google.com/github/MerkulovDaniil/optim/blob/master/assets/Notebooks/Hobbit_village.ipynb\" target=\"_parent\"><img src=\"https://colab.research.google.com/assets/colab-badge.svg\" alt=\"Open In Colab\"/></a>"
      ]
    },
    {
      "cell_type": "markdown",
      "metadata": {
        "id": "9dpEAKin0E0g"
      },
      "source": [
        "[source](https://courses.cs.ut.ee/MTAT.03.227/2015_spring/uploads/Main/home-exercises-5.pdf)"
      ]
    },
    {
      "cell_type": "code",
      "metadata": {
        "hidden": true,
        "id": "UYn1MBDT1vUr"
      },
      "source": [
        "%matplotlib inline\n",
        "import numpy as np\n",
        "from matplotlib import pyplot as plt\n",
        "import matplotlib as mpl\n",
        "import seaborn as sns\n",
        "import copy\n",
        "sns.set()"
      ],
      "execution_count": null,
      "outputs": []
    },
    {
      "cell_type": "markdown",
      "metadata": {
        "hidden": true,
        "id": "nNqH83Jz1vUs"
      },
      "source": [
        "Below one can find function plotting the village"
      ]
    },
    {
      "cell_type": "code",
      "metadata": {
        "hidden": true,
        "id": "WzZzisMR1vUs"
      },
      "source": [
        "def plot_village(coordinates, l=1):\n",
        "    # Checking, that all the coordinates are less than l\n",
        "    assert (coordinates <= l).all(), 'All the houses should be in a village'\n",
        "    \n",
        "    # Draw horizontal line\n",
        "    plt.hlines(0, 0, l)\n",
        "    plt.xlim(0, l)\n",
        "    plt.ylim(-0.5, 0.5)\n",
        "    \n",
        "    # Draw house points\n",
        "    y = np.zeros(np.shape(coordinates))\n",
        "    plt.title('The Hobbit Village')\n",
        "    plt.plot(coordinates,y,'o',ms = 10)\n",
        "    plt.axis('off')\n",
        "    plt.xlabel('Coordinates')\n",
        "    fig = plt.gcf()\n",
        "    fig.set_size_inches(15, 1)\n",
        "    plt.show()"
      ],
      "execution_count": null,
      "outputs": []
    },
    {
      "cell_type": "code",
      "metadata": {
        "hidden": true,
        "id": "acc8i4yg1vUt",
        "outputId": "b46c176a-5210-427e-a109-430147ba472f"
      },
      "source": [
        "N = 25\n",
        "l = 1\n",
        "x = np.random.rand(N)*l\n",
        "    \n",
        "plot_village(x, l)"
      ],
      "execution_count": null,
      "outputs": [
        {
          "output_type": "display_data",
          "data": {
            "image/png": "[encoded data removed]",
            "text/plain": [
              "<Figure size 1080x72 with 1 Axes>"
            ]
          },
          "metadata": {
            "tags": [],
            "needs_background": "light"
          }
        }
      ]
    },
    {
      "cell_type": "markdown",
      "metadata": {
        "id": "K6MxKTnnDXi0"
      },
      "source": [
        "The inhabitants of a one-dimensional village want to connect to the Internet, so they need a central service station from which a cable will stretch to all the houses in the village. Let the price of the cable to be pulled from the station to each house independently be determined by some function p(d) . Then it is clear that the village will have to pay the following amount for access to the World Wide Web:\n",
        "$$\n",
        "P(w, x) = \\sum\\limits_{i=1}^N p(d_i) = \\sum\\limits_{i=1}^N p(|w - x_i|)\n",
        "$$\n",
        "$w$ - station location, $x_i$ - location of $i$ house."
      ]
    },
    {
      "cell_type": "markdown",
      "metadata": {
        "heading_collapsed": true,
        "hidden": true,
        "id": "sO3lhbym1vUv"
      },
      "source": [
        "Write analytical solution $w^*$ for minimization $P(w,x)$, if $p(d) = d^2$"
      ]
    },
    {
      "cell_type": "markdown",
      "metadata": {
        "id": "BUZmjMHILjvm"
      },
      "source": [
        "<font color=\"lime\"> ==YOUR ANSWER== </font>"
      ]
    },
    {
      "cell_type": "markdown",
      "metadata": {
        "heading_collapsed": true,
        "hidden": true,
        "id": "Q84chDrl1vUv"
      },
      "source": [
        "Write loss function $P(x,w)$"
      ]
    },
    {
      "cell_type": "code",
      "metadata": {
        "hidden": true,
        "id": "PPwj7e2h1vUw"
      },
      "source": [
        "def P(w, x):\n",
        "    pass"
      ],
      "execution_count": null,
      "outputs": []
    },
    {
      "cell_type": "markdown",
      "metadata": {
        "hidden": true,
        "id": "TefzahWd1vUw"
      },
      "source": [
        "Plot loss function on the range $(0, l)$"
      ]
    },
    {
      "cell_type": "code",
      "metadata": {
        "hidden": true,
        "id": "MZiksa8J1vUw"
      },
      "source": [
        "### YOUR CODE"
      ],
      "execution_count": null,
      "outputs": []
    },
    {
      "cell_type": "markdown",
      "metadata": {
        "heading_collapsed": true,
        "hidden": true,
        "id": "R5fZ71TR1vUx"
      },
      "source": [
        "Write gradient of loss function"
      ]
    },
    {
      "cell_type": "code",
      "metadata": {
        "hidden": true,
        "id": "rRFYdfr11vUx"
      },
      "source": [
        "def dP(w, x):\n",
        "    pass"
      ],
      "execution_count": null,
      "outputs": []
    },
    {
      "cell_type": "markdown",
      "metadata": {
        "hidden": true,
        "id": "pj8be_b61vUx"
      },
      "source": [
        "Plot gradient of loss function on the range $(0,l)$. Which point on the graph is of particular interest? Why?"
      ]
    },
    {
      "cell_type": "code",
      "metadata": {
        "hidden": true,
        "id": "XYme7fvi1vUy"
      },
      "source": [
        "### YOUR CODE"
      ],
      "execution_count": null,
      "outputs": []
    },
    {
      "cell_type": "markdown",
      "metadata": {
        "heading_collapsed": true,
        "hidden": true,
        "id": "gj3XxPXA1vUy"
      },
      "source": [
        "Write function `gradient_descent`, which returns $w_k$ after a fixed number of steps.   \n",
        "\n",
        "$$\n",
        "w_{k+1} = w_k - \\mu \\nabla P(w_k)\n",
        "$$"
      ]
    },
    {
      "cell_type": "code",
      "metadata": {
        "hidden": true,
        "id": "18oj4Hp21vUz"
      },
      "source": [
        "def gradient_descent(x, dP, w0, mu, Nsteps):\n",
        "    pass"
      ],
      "execution_count": null,
      "outputs": []
    },
    {
      "cell_type": "markdown",
      "metadata": {
        "heading_collapsed": true,
        "hidden": true,
        "id": "HqLslJrc1vUz"
      },
      "source": [
        "Modify `gradient_descent` to return all optimization trajectory.\n",
        "Plot loss function trajectory for the following learning rates $\\mu = 0.01, 0.1, 0.15, 0.19, 0.20, 0.21$.   \n",
        "Draw conclusions."
      ]
    },
    {
      "cell_type": "code",
      "metadata": {
        "hidden": true,
        "id": "weQpMijs1vUz"
      },
      "source": [
        "def gradient_descent(x, dP, w0, mu, Nsteps):\n",
        "    pass"
      ],
      "execution_count": null,
      "outputs": []
    },
    {
      "cell_type": "markdown",
      "metadata": {
        "hidden": true,
        "id": "AyyKSi261vU9"
      },
      "source": [
        "The village decided to lay cable using new technology. That's why the price of the cable changed to:\n",
        "\n",
        "$$\n",
        "p(d) = |d|\n",
        "$$"
      ]
    },
    {
      "cell_type": "markdown",
      "metadata": {
        "heading_collapsed": true,
        "hidden": true,
        "id": "1IzutLPd1vU9"
      },
      "source": [
        "Write new function `P`, `dP`. Plot graphs for various $x$ and $w$."
      ]
    },
    {
      "cell_type": "code",
      "metadata": {
        "hidden": true,
        "id": "CYPjm99M1vU-"
      },
      "source": [
        "def P(w, x):\n",
        "    pass\n",
        "    \n",
        "def dP(w, x):\n",
        "    pass"
      ],
      "execution_count": null,
      "outputs": []
    },
    {
      "cell_type": "markdown",
      "metadata": {
        "hidden": true,
        "id": "6QylDK9H1vU_"
      },
      "source": [
        "Write new analytical solytion $w^*$"
      ]
    },
    {
      "cell_type": "markdown",
      "metadata": {
        "id": "nHufSF8J1FJH"
      },
      "source": [
        "<font color=\"lime\"> ==YOUR ANSWER== </font>"
      ]
    },
    {
      "cell_type": "markdown",
      "metadata": {
        "heading_collapsed": true,
        "hidden": true,
        "id": "2AH3s2m-1vU_"
      },
      "source": [
        "Plot loss trajectory for new $p(d)$."
      ]
    },
    {
      "cell_type": "code",
      "metadata": {
        "id": "fLXXZX3K2hgR"
      },
      "source": [
        "### YOUR CODE"
      ],
      "execution_count": null,
      "outputs": []
    },
    {
      "cell_type": "markdown",
      "metadata": {
        "id": "8Gq7gvrr2tll"
      },
      "source": [
        "After several years, the goverment propose to destroy the first station but choose locations for two new stations. In this conditions cost of connecting all house calculated by new formula:\n",
        "\n",
        "$$\n",
        "P(w_1, w_2, x) = \\sum\\limits_{i=1}^N p(d_i) = \\sum\\limits_{i=1}^N p\\left(\\min\\left(\\left|w_1 - x_i\\right|, \\left|w_2 - x_i\\right|\\right)\\right)\n",
        "$$"
      ]
    },
    {
      "cell_type": "markdown",
      "metadata": {
        "heading_collapsed": true,
        "hidden": true,
        "id": "S5lTHBxZ1vVE"
      },
      "source": [
        "Write new `P`, `dP`. "
      ]
    },
    {
      "cell_type": "code",
      "metadata": {
        "hidden": true,
        "id": "-5Qza4zJ1vVE"
      },
      "source": [
        "def P(w1, w2, x):\n",
        "    pass\n",
        "\n",
        "def dP(w1, w2, x):\n",
        "    pass"
      ],
      "execution_count": null,
      "outputs": []
    },
    {
      "cell_type": "markdown",
      "metadata": {
        "hidden": true,
        "id": "cjuu4XWd1vVE"
      },
      "source": [
        "Plot  $P(w_1, w_2), \\nabla P(w_1, w_2)$ for different number of houses $N$. Comment on what happens as you increase $N$."
      ]
    },
    {
      "cell_type": "code",
      "metadata": {
        "id": "fTbS6uyu4Vtq"
      },
      "source": [
        "### YOUR CODE"
      ],
      "execution_count": null,
      "outputs": []
    },
    {
      "cell_type": "markdown",
      "metadata": {
        "heading_collapsed": true,
        "hidden": true,
        "id": "XA1wa7pm1vVG"
      },
      "source": [
        "Write new `gradient_descent`, which returns the entire optimization trajectory $(w_k)$ after a fixed number of steps and draws the process on the graphs $P$ and $\\nabla P$ that were above. To ease visualization try to use `ax.quiver`"
      ]
    },
    {
      "cell_type": "code",
      "metadata": {
        "hidden": true,
        "scrolled": true,
        "id": "o7gHgwXW1vVG"
      },
      "source": [
        "def gradient_descent(x, dP, w0, mu, Nsteps):\n",
        "    pass"
      ],
      "execution_count": null,
      "outputs": []
    },
    {
      "cell_type": "code",
      "metadata": {
        "id": "zNtBGTwD5L6e"
      },
      "source": [
        "### YOUR CODE"
      ],
      "execution_count": null,
      "outputs": []
    },
    {
      "cell_type": "markdown",
      "metadata": {
        "hidden": true,
        "id": "G48L7NiY1vVK"
      },
      "source": [
        "Construction is almost underway, but new safety regulations do not allow stations to be on the distance more than 1/2:\n",
        " \n",
        "$$\n",
        "\\left|w_1 - w_2\\right| \\leq \\dfrac{l}{2}\n",
        "$$"
      ]
    },
    {
      "cell_type": "markdown",
      "metadata": {
        "heading_collapsed": true,
        "hidden": true,
        "id": "kLB7Dtkn1vVK"
      },
      "source": [
        "Plot our feasible set. Is it convex?"
      ]
    },
    {
      "cell_type": "code",
      "metadata": {
        "id": "-BzpO6Mw5fJz"
      },
      "source": [
        "### YOUR CODE"
      ],
      "execution_count": null,
      "outputs": []
    },
    {
      "cell_type": "markdown",
      "metadata": {
        "heading_collapsed": true,
        "hidden": true,
        "id": "zlXbM7681vVL"
      },
      "source": [
        "Write `conditional_SGD`, which returns the entire optimization trajectory $(w_k)$ after a fixed number of steps and draws the process on the graphs $P$ and $\\nabla P$ that were above.\n",
        "\n",
        "The conditional gradient descent method consists in making a gradient step and then checking if the obtained point belongs to the feasible set. If it belongs to the target set, the algorithm continues, otherwise a projection to the feasible set is made."
      ]
    },
    {
      "cell_type": "code",
      "metadata": {
        "id": "t89_1H4b1vVL"
      },
      "source": [
        "def conditional_SGD(x, dP_sigma, w0, mu, Nsteps, p=0.4):\n",
        "    pass"
      ],
      "execution_count": null,
      "outputs": []
    },
    {
      "cell_type": "code",
      "metadata": {
        "id": "JWFxsiwV1vVL"
      },
      "source": [
        "def projection(w):\n",
        "    pass"
      ],
      "execution_count": null,
      "outputs": []
    },
    {
      "cell_type": "code",
      "metadata": {
        "id": "qIC7fCJk7O_l"
      },
      "source": [
        "### YOUR CODE"
      ],
      "execution_count": null,
      "outputs": []
    },
    {
      "cell_type": "markdown",
      "metadata": {
        "id": "eARd37xqxcb3"
      },
      "source": [
        "We have same loss function\n",
        "\n",
        "$$\n",
        "P(w, x) = \\sum\\limits_{i=1}^N p(d_i) = \\sum\\limits_{i=1}^N p(|w - x_i|),\n",
        "$$\n",
        "\n",
        "where $p(d) = d^2$"
      ]
    },
    {
      "cell_type": "markdown",
      "metadata": {
        "heading_collapsed": true,
        "hidden": true,
        "id": "NAifS3db1vU2"
      },
      "source": [
        "Write functions `P, dP, ddP`. `ddP` has to return hessian of loss function"
      ]
    },
    {
      "cell_type": "code",
      "metadata": {
        "hidden": true,
        "id": "J9nXwNDr1vU2"
      },
      "source": [
        "def P(w, x):\n",
        "    ### YOUR CODE\n",
        "    return\n",
        "\n",
        "def dP(w, x):\n",
        "    ### YOUR CODE\n",
        "    return \n",
        "\n",
        "def ddP(w, x):\n",
        "    ### YOUR CODE\n",
        "    return "
      ],
      "execution_count": null,
      "outputs": []
    },
    {
      "cell_type": "markdown",
      "metadata": {
        "hidden": true,
        "id": "O4a3K-iR1vU3"
      },
      "source": [
        "Plot `ddP` on the range  (0,l)"
      ]
    },
    {
      "cell_type": "code",
      "metadata": {
        "hidden": true,
        "id": "cpqUkIRp1vU3"
      },
      "source": [
        "### YOUR CODE"
      ],
      "execution_count": null,
      "outputs": []
    },
    {
      "cell_type": "markdown",
      "metadata": {
        "heading_collapsed": true,
        "hidden": true,
        "id": "QTvG1sCh1vU3"
      },
      "source": [
        "Write function `newton_descent`, which return all optimization trajectory. Update rule:\n",
        "\n",
        "$$\n",
        "w_{i+1} = w_{i} - \\nabla^{2} f\\left(w_{i}\\right)^{-1} \\nabla f\\left(w_{i}\\right)\n",
        "$$"
      ]
    },
    {
      "cell_type": "code",
      "metadata": {
        "hidden": true,
        "id": "lEDP8jCn1vU4"
      },
      "source": [
        "def newton_descent(x, dP, ddP, w0, Nsteps):\n",
        "    ### YOUR CODE\n",
        "    return trajectory"
      ],
      "execution_count": null,
      "outputs": []
    },
    {
      "cell_type": "markdown",
      "metadata": {
        "hidden": true,
        "id": "5RKzcWwa1vU4"
      },
      "source": [
        "Investigate the behavior of Newton's method depending on the different initial point $w_0$."
      ]
    },
    {
      "cell_type": "code",
      "metadata": {
        "id": "jg9HW4gLde4E"
      },
      "source": [
        "### YOUR CODE"
      ],
      "execution_count": null,
      "outputs": []
    },
    {
      "cell_type": "markdown",
      "metadata": {
        "hidden": true,
        "id": "s6riJRzb1vVM"
      },
      "source": [
        "Write function `multi_newton`, which solves 2D task:\n",
        "$$\n",
        "P(w_1, w_2, x) = \\sum\\limits_{i=1}^N p(d_i) = \\sum\\limits_{i=1}^N p\\left(\\min\\left(\\left|w_1 - x_i\\right|, \\left|w_2 - x_i\\right|\\right)\\right)\n",
        "$$\n",
        "\n",
        "with  $p(d) = d^3$ using Newton method and return optimization trajectory. Compare results with gradient descent."
      ]
    },
    {
      "cell_type": "code",
      "metadata": {
        "id": "pXVuFYhL1vVM"
      },
      "source": [
        "def P(w1, w2, x):\n",
        "    ### YOUR CODE\n",
        "    return \n",
        "\n",
        "def dP(w1, w2, x):\n",
        "    ### YOUR CODE\n",
        "    return \n",
        "\n",
        "def ddP(w1, w2, x):\n",
        "    ### YOUR CODE\n",
        "    return "
      ],
      "execution_count": null,
      "outputs": []
    },
    {
      "cell_type": "code",
      "metadata": {
        "hidden": true,
        "id": "q1XyfEdz1vVM"
      },
      "source": [
        "def multi_newton(x, dP, ddP, w0, Nsteps):\n",
        "    ### YOUR CODE\n",
        "    return trajectory"
      ],
      "execution_count": null,
      "outputs": []
    },
    {
      "cell_type": "code",
      "metadata": {
        "id": "S3EMuIcYZpN-"
      },
      "source": [
        "### Gradient descent trajectory"
      ],
      "execution_count": null,
      "outputs": []
    },
    {
      "cell_type": "code",
      "metadata": {
        "id": "EmvnUX7ey-Xb"
      },
      "source": [
        "### Newton descent trajectory"
      ],
      "execution_count": null,
      "outputs": []
    }
  ]
}
