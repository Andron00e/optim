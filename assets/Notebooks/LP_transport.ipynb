{
  "cells": [
    {
      "cell_type": "markdown",
      "metadata": {
        "id": "jMxww7mcmaBK",
        "pycharm": {}
      },
      "source": [
        "# 🚚 Transportation Networks\n",
        "\n",
        "Keywords: transportation, assignment, cbc usage\n",
        "\n",
        "This notebook demonstrates the solution of transportation network problems using Pyomo and GLPK. The problem description and data are adapted from Chapter 5 of Johannes Bisschop, [\"AIMMS Optimization Modeling\", AIMMS B. V., 2014](http://download.aimms.com/aimms/download/manuals/AIMMS3_OM.pdf).\n"
      ]
    },
    {
      "cell_type": "markdown",
      "metadata": {
        "id": "dUB64cl9jz4y"
      },
      "source": [
        "## Imports"
      ]
    },
    {
      "cell_type": "code",
      "execution_count": 8,
      "metadata": {},
      "outputs": [
        {
          "name": "stdout",
          "output_type": "stream",
          "text": [
            "Collecting pyomo\n",
            "  Downloading Pyomo-6.6.2.tar.gz (4.1 MB)\n",
            "\u001b[2K     \u001b[90m━━━━━━━━━━━━━━━━━━━━━━━━━━━━━━━━━━━━━━━━\u001b[0m \u001b[32m4.1/4.1 MB\u001b[0m \u001b[31m531.5 kB/s\u001b[0m eta \u001b[36m0:00:00\u001b[0m00:01\u001b[0m00:01\u001b[0m\n",
            "\u001b[?25h  Preparing metadata (setup.py) ... \u001b[?25ldone\n",
            "\u001b[?25hCollecting ply (from pyomo)\n",
            "  Using cached ply-3.11-py2.py3-none-any.whl (49 kB)\n",
            "Building wheels for collected packages: pyomo\n",
            "  Building wheel for pyomo (setup.py) ... \u001b[?25ldone\n",
            "\u001b[?25h  Created wheel for pyomo: filename=Pyomo-6.6.2-py2.py3-none-any.whl size=3239245 sha256=c2376cdabc02f9ea5a3e9ef2217deeb1b19b5f026acc7789c585cafe634aee59\n",
            "  Stored in directory: /Users/bratishka/Library/Caches/pip/wheels/75/df/1b/433adfdea30e23f4f19708f617e4c7be07566e980dde25c1e2\n",
            "Successfully built pyomo\n",
            "Installing collected packages: ply, pyomo\n",
            "Successfully installed ply-3.11 pyomo-6.6.2\n",
            "\n",
            "\u001b[1m[\u001b[0m\u001b[34;49mnotice\u001b[0m\u001b[1;39;49m]\u001b[0m\u001b[39;49m A new release of pip is available: \u001b[0m\u001b[31;49m23.2.1\u001b[0m\u001b[39;49m -> \u001b[0m\u001b[32;49m23.3.1\u001b[0m\n",
            "\u001b[1m[\u001b[0m\u001b[34;49mnotice\u001b[0m\u001b[1;39;49m]\u001b[0m\u001b[39;49m To update, run: \u001b[0m\u001b[32;49mpython3.9 -m pip install --upgrade pip\u001b[0m\n"
          ]
        }
      ],
      "source": [
        "!pip install pyomo"
      ]
    },
    {
      "cell_type": "code",
      "execution_count": 9,
      "metadata": {
        "id": "WdqEo2IbmjQu",
        "pycharm": {}
      },
      "outputs": [],
      "source": [
        "import shutil\n",
        "import sys\n",
        "import os.path\n",
        "\n",
        "if not shutil.which(\"pyomo\"):\n",
        "    !pip install -q pyomo\n",
        "    assert(shutil.which(\"pyomo\"))\n",
        "\n",
        "if not (shutil.which(\"cbc\") or os.path.isfile(\"cbc\")):\n",
        "    if \"google.colab\" in sys.modules:\n",
        "        !apt-get install -y -qq coinor-cbc\n",
        "    else:\n",
        "        try:\n",
        "            !conda install -y -c conda-forge coincbc\n",
        "        except:\n",
        "            pass\n",
        "\n",
        "assert(shutil.which(\"cbc\") or os.path.isfile(\"cbc\"))\n",
        "\n",
        "from pyomo.environ import *"
      ]
    },
    {
      "cell_type": "markdown",
      "metadata": {
        "id": "d98L9bHkjz41",
        "pycharm": {
          "metadata": false,
          "name": "#%% md\n"
        }
      },
      "source": [
        "## Background\n",
        "\n",
        "The prototypical transportation problem deals with the distribution of a commodity from a set of sources to a set of destinations. The object is to minimize total transportation costs while satisfying constraints on the supplies available at each of the sources, and satisfying demand requirements at each of the destinations.\n",
        "\n",
        "Here we illustrate the transportation problem using an example from Chapter 5 of Johannes Bisschop, \"AIMMS Optimization Modeling\", Paragon Decision Sciences, 1999. In this example there are two factories and six customer sites located in 8 European cities as shown in the following map. The customer sites are labeled in red, the factories are labeled in blue."
      ]
    },
    {
      "cell_type": "markdown",
      "metadata": {
        "id": "i2uB5hYLmaBN",
        "pycharm": {}
      },
      "source": [
        "![TransportationNetworksMap.png](https://github.com/jckantor/ND-Pyomo-Cookbook/blob/master/notebooks/figures/TransportationNetworksMap.png?raw=1)"
      ]
    },
    {
      "cell_type": "markdown",
      "metadata": {
        "id": "P7FCxssgmaBP",
        "pycharm": {}
      },
      "source": [
        "Transportation costs between sources and destinations are given in units of &euro;/ton of goods shipped, and list in the following table along with source capacity and demand requirements.\n"
      ]
    },
    {
      "cell_type": "markdown",
      "metadata": {
        "id": "vyJdKMRYjz43",
        "pycharm": {
          "metadata": false,
          "name": "#%% md\n"
        }
      },
      "source": [
        "### Table of transportation costs, customer demand, and available supplies\n",
        "\n",
        "| Customer\\Source | Arnhem [&euro;/ton] | Gouda [&euro;/ton] | Demand [tons]|\n",
        "| :--: | :----: | :---: | :----: |\n",
        "| London | n/a | 2.5 | 125 |\n",
        "| Berlin | 2.5 | n/a | 175 |\n",
        "| Maastricht | 1.6 | 2.0 | 225 |\n",
        "| Amsterdam | 1.4 | 1.0 | 250 |\n",
        "| Utrecht | 0.8 | 1.0 | 225 |\n",
        "| The Hague | 1.4 | 0.8 | 200 |\n",
        "| **Supply [tons]** | 550 tons | 700 tons |  |\n",
        "\n",
        "The situation can be modeled by links connecting a set nodes representing sources to a set of nodes representing customers.\n",
        "\n",
        "![TransportNet.png](https://github.com/jckantor/ND-Pyomo-Cookbook/blob/master/notebooks/figures/TransportNet.png?raw=1)\n",
        "\n",
        "For each link we can have a parameter $T[c,s]$ denoting the cost of shipping a ton of goods over the link. What we need to determine is the amount of goods to be shipped over each link, which we will represent as a non-negative decision variable $x[c,s]$.\n",
        "\n",
        "The problem objective is to minimize the total shipping cost to all customers from all sources.\n",
        "\n",
        "$$\\mbox{minimize:}\\quad \\mbox{Cost} = \\sum_{c \\in Customers}\\sum_{s \\in Sources} T[c,s] x[c,s]$$\n",
        "\n",
        "Shipments from all sources can not exceed the manufacturing capacity of the source.\n",
        "\n",
        "$$\\sum_{c \\in Customers} x[c,s] \\leq \\mbox{Supply}[s] \\qquad \\forall s \\in Sources$$\n",
        "\n",
        "Shipments to each customer must satisfy their demand.\n",
        "\n",
        "$$\\sum_{s\\in Sources} x[c,s] = \\mbox{Demand}[c] \\qquad \\forall c \\in Customers$$"
      ]
    },
    {
      "cell_type": "markdown",
      "metadata": {
        "id": "Z6lxj4h7mfBA",
        "pycharm": {}
      },
      "source": [
        "## Pyomo model"
      ]
    },
    {
      "cell_type": "markdown",
      "metadata": {
        "id": "KVTGAB_rmaBR",
        "pycharm": {}
      },
      "source": [
        "### Data File"
      ]
    },
    {
      "cell_type": "code",
      "execution_count": 16,
      "metadata": {
        "id": "PWTg-VkImaBR",
        "pycharm": {}
      },
      "outputs": [],
      "source": [
        "Demand = {\n",
        "   'Lon':   125,        # London\n",
        "   'Ber':   175,        # Berlin\n",
        "   'Maa':   225,        # Maastricht\n",
        "   'Ams':   250,        # Amsterdam\n",
        "   'Utr':   225,        # Utrecht\n",
        "   'Hag':   200         # The Hague\n",
        "}\n",
        "\n",
        "Supply = {\n",
        "   'Arn':   550,        # Arnhem\n",
        "   'Gou':   650         # Gouda\n",
        "}\n",
        "\n",
        "T = {\n",
        "    ('Lon','Arn'): 1000,\n",
        "    ('Lon','Gou'): 2.5,\n",
        "    ('Ber','Arn'): 2.5,\n",
        "    ('Ber','Gou'): 1000,\n",
        "    ('Maa','Arn'): 1.6,\n",
        "    ('Maa','Gou'): 2.0,\n",
        "    ('Ams','Arn'): 1.4,\n",
        "    ('Ams','Gou'): 1.0,\n",
        "    ('Utr','Arn'): 0.8,\n",
        "    ('Utr','Gou'): 1.0,\n",
        "    ('Hag','Arn'): 1.4,\n",
        "    ('Hag','Gou'): 0.8\n",
        "}"
      ]
    },
    {
      "cell_type": "markdown",
      "metadata": {
        "id": "Xzn73cqWmaBX",
        "pycharm": {}
      },
      "source": [
        "### Model file"
      ]
    },
    {
      "cell_type": "code",
      "execution_count": 17,
      "metadata": {
        "colab": {
          "base_uri": "https://localhost:8080/"
        },
        "id": "cVoqn1ozmaBX",
        "outputId": "b46f000c-2395-4405-a338-2a52b3f13567",
        "pycharm": {}
      },
      "outputs": [
        {
          "name": "stdout",
          "output_type": "stream",
          "text": [
            "ERROR: Solver (cbc) returned non-zero return code (-6)\n"
          ]
        },
        {
          "ename": "ApplicationError",
          "evalue": "Solver (cbc) did not exit normally",
          "output_type": "error",
          "traceback": [
            "\u001b[0;31m---------------------------------------------------------------------------\u001b[0m",
            "\u001b[0;31mApplicationError\u001b[0m                          Traceback (most recent call last)",
            "\u001b[1;32m/Users/bratishka/Yandex.Disk.localized/Base/Git/optim/assets/Notebooks/LP_transport.ipynb Cell 13\u001b[0m line \u001b[0;36m2\n\u001b[1;32m     <a href='vscode-notebook-cell:/Users/bratishka/Yandex.Disk.localized/Base/Git/optim/assets/Notebooks/LP_transport.ipynb#X15sZmlsZQ%3D%3D?line=22'>23</a>\u001b[0m \u001b[39mfor\u001b[39;00m c \u001b[39min\u001b[39;00m CUS:\n\u001b[1;32m     <a href='vscode-notebook-cell:/Users/bratishka/Yandex.Disk.localized/Base/Git/optim/assets/Notebooks/LP_transport.ipynb#X15sZmlsZQ%3D%3D?line=23'>24</a>\u001b[0m     model\u001b[39m.\u001b[39mdmd\u001b[39m.\u001b[39madd(\u001b[39msum\u001b[39m([model\u001b[39m.\u001b[39mx[c,s] \u001b[39mfor\u001b[39;00m s \u001b[39min\u001b[39;00m SRC]) \u001b[39m==\u001b[39m Demand[c])\n\u001b[0;32m---> <a href='vscode-notebook-cell:/Users/bratishka/Yandex.Disk.localized/Base/Git/optim/assets/Notebooks/LP_transport.ipynb#X15sZmlsZQ%3D%3D?line=25'>26</a>\u001b[0m results \u001b[39m=\u001b[39m SolverFactory(\u001b[39m'\u001b[39;49m\u001b[39mcbc\u001b[39;49m\u001b[39m'\u001b[39;49m)\u001b[39m.\u001b[39;49msolve(model)\n\u001b[1;32m     <a href='vscode-notebook-cell:/Users/bratishka/Yandex.Disk.localized/Base/Git/optim/assets/Notebooks/LP_transport.ipynb#X15sZmlsZQ%3D%3D?line=26'>27</a>\u001b[0m results\u001b[39m.\u001b[39mwrite()\n",
            "File \u001b[0;32m~/.pyenv/versions/3.9.17/envs/benchmarx/lib/python3.9/site-packages/pyomo/opt/base/solvers.py:627\u001b[0m, in \u001b[0;36mOptSolver.solve\u001b[0;34m(self, *args, **kwds)\u001b[0m\n\u001b[1;32m    625\u001b[0m     \u001b[39melif\u001b[39;00m \u001b[39mhasattr\u001b[39m(_status, \u001b[39m'\u001b[39m\u001b[39mlog\u001b[39m\u001b[39m'\u001b[39m) \u001b[39mand\u001b[39;00m _status\u001b[39m.\u001b[39mlog:\n\u001b[1;32m    626\u001b[0m         logger\u001b[39m.\u001b[39merror(\u001b[39m\"\u001b[39m\u001b[39mSolver log:\u001b[39m\u001b[39m\\n\u001b[39;00m\u001b[39m\"\u001b[39m \u001b[39m+\u001b[39m \u001b[39mstr\u001b[39m(_status\u001b[39m.\u001b[39mlog))\n\u001b[0;32m--> 627\u001b[0m     \u001b[39mraise\u001b[39;00m ApplicationError(\u001b[39m\"\u001b[39m\u001b[39mSolver (\u001b[39m\u001b[39m%s\u001b[39;00m\u001b[39m) did not exit normally\u001b[39m\u001b[39m\"\u001b[39m \u001b[39m%\u001b[39m \u001b[39mself\u001b[39m\u001b[39m.\u001b[39mname)\n\u001b[1;32m    628\u001b[0m solve_completion_time \u001b[39m=\u001b[39m time\u001b[39m.\u001b[39mtime()\n\u001b[1;32m    629\u001b[0m \u001b[39mif\u001b[39;00m \u001b[39mself\u001b[39m\u001b[39m.\u001b[39m_report_timing:\n",
            "\u001b[0;31mApplicationError\u001b[0m: Solver (cbc) did not exit normally"
          ]
        }
      ],
      "source": [
        "# Step 0: Create an instance of the model\n",
        "model = ConcreteModel()\n",
        "model.dual = Suffix(direction=Suffix.IMPORT)\n",
        "\n",
        "# Step 1: Define index sets\n",
        "CUS = list(Demand.keys())\n",
        "SRC = list(Supply.keys())\n",
        "\n",
        "# Step 2: Define the decision\n",
        "model.x = Var(CUS, SRC, domain = NonNegativeReals)\n",
        "\n",
        "# Step 3: Define Objective\n",
        "model.Cost = Objective(\n",
        "    expr = sum([T[c,s]*model.x[c,s] for c in CUS for s in SRC]),\n",
        "    sense = minimize)\n",
        "\n",
        "# Step 4: Constraints\n",
        "model.src = ConstraintList()\n",
        "for s in SRC:\n",
        "    model.src.add(sum([model.x[c,s] for c in CUS]) <= Supply[s])\n",
        "\n",
        "model.dmd = ConstraintList()\n",
        "for c in CUS:\n",
        "    model.dmd.add(sum([model.x[c,s] for s in SRC]) == Demand[c])\n",
        "\n",
        "results = SolverFactory('cbc').solve(model)\n",
        "results.write()"
      ]
    },
    {
      "cell_type": "markdown",
      "metadata": {
        "id": "zPozph3lmaBc",
        "pycharm": {}
      },
      "source": [
        "## Solution"
      ]
    },
    {
      "cell_type": "code",
      "execution_count": null,
      "metadata": {
        "colab": {
          "base_uri": "https://localhost:8080/"
        },
        "id": "c9oQxQsxmaBe",
        "outputId": "6a876701-058b-4360-d206-e7b2c4bca19e",
        "pycharm": {}
      },
      "outputs": [
        {
          "name": "stdout",
          "output_type": "stream",
          "text": [
            "Lon Arn 0.0\n",
            "Lon Gou 125.0\n",
            "Ber Arn 175.0\n",
            "Ber Gou 0.0\n",
            "Maa Arn 225.0\n",
            "Maa Gou 0.0\n",
            "Ams Arn 0.0\n",
            "Ams Gou 250.0\n",
            "Utr Arn 200.0\n",
            "Utr Gou 25.0\n",
            "Hag Arn 0.0\n",
            "Hag Gou 200.0\n"
          ]
        }
      ],
      "source": [
        "for c in CUS:\n",
        "    for s in SRC:\n",
        "        print(c, s, model.x[c,s]())"
      ]
    },
    {
      "cell_type": "code",
      "execution_count": null,
      "metadata": {
        "colab": {
          "base_uri": "https://localhost:8080/"
        },
        "id": "dfLXRj7umaBz",
        "outputId": "428e9260-0e71-4897-ef53-2967c5774da6",
        "pycharm": {}
      },
      "outputs": [
        {
          "name": "stdout",
          "output_type": "stream",
          "text": [
            "Total Shipping Costs =  1705.0\n",
            "\n",
            "Shipping Table:\n",
            "Ship from  Arn  to  Ber : 175.0\n",
            "Ship from  Arn  to  Maa : 225.0\n",
            "Ship from  Arn  to  Utr : 200.0\n",
            "Ship from  Gou  to  Lon : 125.0\n",
            "Ship from  Gou  to  Ams : 250.0\n",
            "Ship from  Gou  to  Utr : 25.0\n",
            "Ship from  Gou  to  Hag : 200.0\n"
          ]
        }
      ],
      "source": [
        "if 'ok' == str(results.Solver.status):\n",
        "    print(\"Total Shipping Costs = \",model.Cost())\n",
        "    print(\"\\nShipping Table:\")\n",
        "    for s in SRC:\n",
        "        for c in CUS:\n",
        "            if model.x[c,s]() > 0:\n",
        "                print(\"Ship from \", s,\" to \", c, \":\", model.x[c,s]())\n",
        "else:\n",
        "    print(\"No Valid Solution Found\")"
      ]
    },
    {
      "cell_type": "markdown",
      "metadata": {
        "id": "nkc1GK46maB3",
        "pycharm": {}
      },
      "source": [
        "The solution has the interesting property that, with the exception of Utrecht, customers are served by just one source.\n",
        "\n",
        "![TransportNet_soln.png](https://github.com/jckantor/ND-Pyomo-Cookbook/blob/master/notebooks/figures/TransportNet_soln.png?raw=1)\n"
      ]
    },
    {
      "cell_type": "markdown",
      "metadata": {
        "id": "wCmJ6UACmaB4",
        "pycharm": {}
      },
      "source": [
        "## Sensitivity analysis"
      ]
    },
    {
      "cell_type": "markdown",
      "metadata": {
        "id": "G4dAE7Sqjz49",
        "pycharm": {
          "metadata": false,
          "name": "#%% md\n"
        }
      },
      "source": [
        "### Analysis by source"
      ]
    },
    {
      "cell_type": "code",
      "execution_count": null,
      "metadata": {
        "colab": {
          "base_uri": "https://localhost:8080/"
        },
        "id": "eq7tLE9FmaB6",
        "outputId": "c01435da-19b7-45f3-bb29-05bd5943496c",
        "pycharm": {}
      },
      "outputs": [
        {
          "name": "stdout",
          "output_type": "stream",
          "text": [
            "\n",
            "Sources:\n",
            "Source      Capacity   Shipped    Margin\n",
            "Arn            600.0     600.0   -0.2000\n",
            "Gou            650.0     600.0    0.0000\n"
          ]
        }
      ],
      "source": [
        "if 'ok' == str(results.Solver.status):\n",
        "    print(\"\\nSources:\")\n",
        "    print(\"Source      Capacity   Shipped    Margin\")\n",
        "    for m in model.src.keys():\n",
        "        s = SRC[m-1]\n",
        "        print(\"{0:10s}{1:10.1f}{2:10.1f}{3:10.4f}\".format(s,Supply[s],model.src[m](),model.dual[model.src[m]]))\n",
        "else:\n",
        "    print(\"No Valid Solution Found\")"
      ]
    },
    {
      "cell_type": "markdown",
      "metadata": {
        "id": "ZIlMOpDLmaB9",
        "pycharm": {}
      },
      "source": [
        "The 'marginal' values are telling us how much the total costs will be increased for each one ton increase in the available supply from each source. The optimization calculation says that only 650 tons of the 700 available from Gouda should used for a minimum cost solution, which rules out any further cost reductions by increasing the available supply. In fact, we could decrease the supply Gouda without any harm. The marginal value of Gouda is 0.\n",
        "\n",
        "The source at Arnhem is a different matter. First, all 550 available tons are being used. Second, from the marginal value we see that the total transportations costs would be reduced by 0.2 Euros for each additional ton of supply.  \n",
        "\n",
        "The management conclusion we can draw is that there is excess supply available at Gouda which should, if feasible, me moved to Arnhem.\n",
        "\n",
        "Now that's a valuable piece of information!"
      ]
    },
    {
      "cell_type": "markdown",
      "metadata": {
        "id": "e9EJqVwSmaB-",
        "pycharm": {}
      },
      "source": [
        "### Analysis by customer"
      ]
    },
    {
      "cell_type": "code",
      "execution_count": null,
      "metadata": {
        "colab": {
          "base_uri": "https://localhost:8080/"
        },
        "id": "EQLauqn0maB_",
        "outputId": "534d6bdb-a59c-457d-dfe2-61d427ea94cd",
        "pycharm": {}
      },
      "outputs": [
        {
          "name": "stdout",
          "output_type": "stream",
          "text": [
            "\n",
            "Customers:\n",
            "Customer      Demand   Shipped    Margin\n",
            "Lon            125.0     125.0    2.5000\n",
            "Ber            175.0     175.0    2.7000\n",
            "Maa            225.0     225.0    1.8000\n",
            "Ams            250.0     250.0    1.0000\n",
            "Utr            225.0     225.0    1.0000\n",
            "Hag            200.0     200.0    0.8000\n"
          ]
        }
      ],
      "source": [
        "if 'ok' == str(results.Solver.status):\n",
        "    print(\"\\nCustomers:\")\n",
        "    print(\"Customer      Demand   Shipped    Margin\")\n",
        "    for n in model.dmd.keys():\n",
        "        c = CUS[n-1]\n",
        "        print(\"{0:10s}{1:10.1f}{2:10.1f}{3:10.4f}\".format(c,Demand[c],model.dmd[n](),model.dual[model.dmd[n]]))\n",
        "else:\n",
        "    print(\"No Valid Solution Found\")"
      ]
    },
    {
      "cell_type": "markdown",
      "metadata": {
        "id": "kK5peVBmmaCC",
        "pycharm": {}
      },
      "source": [
        "Looking at the demand constraints, we see that all of the required demands have been met by the optimal solution.\n",
        "\n",
        "The marginal values of these constraints indicate how much the total transportation costs will increase if there is an additional ton of demand at any of the locations. In particular, note that increasing the demand at Berlin will increase costs by 2.7 Euros per ton. This is actually **greater** than the list price for shipping to Berlin which is 2.5 Euros per ton.  Why is this?\n",
        "\n",
        "To see what's going on, let's resolve the problem with a one ton increase in the demand at Berlin.\n",
        "\n",
        "We see the total cost has increased from 1715.0 to 1717.7 Euros, an increase of 2.7 Euros just as predicted by the marginal value assocated with the demand constraint for Berlin.\n",
        "\n",
        "Now let's look at the solution.\n",
        "\n",
        "Here we see that increasing the demand in Berlin resulted in a number of other changes. This figure shows the changes shipments.\n",
        "\n",
        "![TransportNet_sens.png](https://github.com/jckantor/ND-Pyomo-Cookbook/blob/master/notebooks/figures/TransportNet_sens.png?raw=1)\n",
        "\n",
        "* Shipments to Berlin increased from 175 to 176 tons, increasing costs for that link from 437.5 to 440.0, or a net increase of 2.5 Euros.\n",
        "* Since Arnhem is operating at full capacity, increasing the shipments from Arnhem to Berlin resulted in decreasing the shipments from Arhhem to Utrecht from 150 to 149 reducing those shipping costs from 120.0 to 119.2, a net decrease of 0.8 Euros.\n",
        "* To meet demand at Utrecht, shipments from Gouda to Utrecht had to increase from 75 to 76, increasing shipping costs by a net amount of 1.0 Euros.\n",
        "* The net effect on shipping costs is 2.5 - 0.8 + 1.0 = 2.7 Euros.\n",
        "\n",
        "The important conclusion to draw is that when operating under optimal conditions, a change in demand or supply can have a ripple effect on the optimal solution that can only be measured through a proper sensitivity analysis."
      ]
    },
    {
      "cell_type": "markdown",
      "metadata": {
        "id": "Y1uwO5damaCD",
        "pycharm": {}
      },
      "source": [
        "## EXTRA: Exercises\n",
        "\n",
        "1. Move 50 tons of supply capacity from Gouda to Arnhem, and repeat the sensitivity analysis. How has the situation improved?  In practice, would you recommend this change, or would you propose something different?\n",
        "2. What other business improvements would you recommend?"
      ]
    },
    {
      "cell_type": "code",
      "execution_count": null,
      "metadata": {
        "id": "Ku2mzo0CmaCD",
        "pycharm": {}
      },
      "outputs": [],
      "source": []
    }
  ],
  "metadata": {
    "colab": {
      "provenance": []
    },
    "kernelspec": {
      "display_name": "Python 3",
      "name": "python3"
    },
    "language_info": {
      "codemirror_mode": {
        "name": "ipython",
        "version": 3
      },
      "file_extension": ".py",
      "mimetype": "text/x-python",
      "name": "python",
      "nbconvert_exporter": "python",
      "pygments_lexer": "ipython3",
      "version": "3.9.17"
    }
  },
  "nbformat": 4,
  "nbformat_minor": 0
}
