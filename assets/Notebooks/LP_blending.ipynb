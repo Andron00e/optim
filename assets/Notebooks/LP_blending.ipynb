{
  "cells": [
    {
      "cell_type": "markdown",
      "metadata": {
        "id": "view-in-github",
        "colab_type": "text"
      },
      "source": [
        "<a href=\"https://colab.research.google.com/github/MerkulovDaniil/optim/blob/master/assets/Notebooks/LP_blending.ipynb\" target=\"_parent\"><img src=\"https://colab.research.google.com/assets/colab-badge.svg\" alt=\"Open In Colab\"/></a>"
      ]
    },
    {
      "cell_type": "markdown",
      "source": [
        "# 🍺🤔 ➡ 🍻😀 Pivko Blending problem\n",
        "\n",
        "[Source](https://jckantor.github.io/ND-Pyomo-Cookbook/notebooks/02.03-Linear-Blending-Problem.html)\n",
        "\n",
        "A brewery receives an order for 100 gallons of 4% ABV (alchohol by volume) beer. The brewery has on hand beer Okhota that is 4.5% ABV that cost USD 0.32 per gallon to make, and beer Baltos that is 3.7% ABV and cost USD 0.25 per gallon. Water could also be used as a blending agent at a cost of USD 0.05 per gallon. Find the minimum cost blend that meets the customer requirements.\n",
        "\n",
        "#### Model Formulation\n",
        "\n",
        "##### Objective Function\n",
        "\n",
        "If we let subscript $c$ denote a blending component from the set of blending components $C$, and denote the volume of $c$ used in the blend as $x_c$, the cost of the blend is\n",
        "\n",
        "$$\n",
        "\\text{cost}  = \\sum_{c\\in C} x_c P_c\n",
        "$$\n",
        "\n",
        "where $P_c$ is the price per unit volume of $c$. Using the Python data dictionary defined above, the price $P_c$ is given by `data[c]['cost']`.\n",
        "\n",
        "##### Volume Constraint\n",
        "\n",
        "The customer requirement is produce a total volume $V$. Assuming ideal solutions, the constraint is given by\n",
        "\n",
        "$$\n",
        "V  = \\sum_{c\\in C} x_c\n",
        "$$\n",
        "\n",
        "where $x_c$ denotes the volume of component $c$ used in the blend.\n",
        "\n",
        "##### Product Composition Constraint\n",
        "\n",
        "The product composition is specified as 4% alchohol by volume. Denoting this as $\\bar{A}$, the constraint may be written as\n",
        "\n",
        "$$\n",
        "\\bar{A} = \\frac{\\sum_{c\\in C}x_c A_c}{\\sum_{c\\in C} x_c}\n",
        "$$\n",
        "\n",
        "where $A_c$ is the alcohol by volume for component $c$. As written, this is a nonlinear constraint. Multiplying both sides of the equation by the denominator yields a linear constraint\n",
        "\n",
        "$$\n",
        "\\bar{A}\\sum_{c\\in C} x_c  = \\sum_{c\\in C}x_c A_c\n",
        "$$\n",
        "\n",
        "A final form for this constraint can be given in either of two versions. In the first version we subtract the left-hand side from the right to give\n",
        "\n",
        "$$\n",
        "0  = \\sum_{c\\in C}x_c \\left(A_c - \\bar{A}\\right)  \\text{ Version 1 of the linear blending constraint}\n",
        "$$\n",
        "\n",
        "Alternatively, the summation on the left-hand side corresponds to total volume. Since that is known as part of the problem specification, the blending constraint could also be written as\n",
        "\n",
        "$$\n",
        "\\bar{A}V  = \\sum_{c\\in C}x_c A_c   \\text{ Version 2 of the linear blending constraint}\n",
        "$$\n",
        "\n",
        "Which should you use? Either will generally work well. The advantage of version 1 is that it is fully specified by a product requirement $\\bar{A}$, which is sometimes helpful in writing elegant Python code."
      ],
      "metadata": {
        "id": "zNXd4j6sMz_4"
      }
    },
    {
      "cell_type": "code",
      "execution_count": 7,
      "metadata": {
        "id": "dCvzsDdpMvdq"
      },
      "outputs": [],
      "source": [
        "%matplotlib inline\n",
        "import matplotlib.pyplot as plt\n",
        "import numpy as np\n",
        "import pandas as pd\n",
        "\n",
        "import shutil\n",
        "import sys\n",
        "import os.path\n",
        "\n",
        "if not shutil.which(\"pyomo\"):\n",
        "    !pip install -q pyomo\n",
        "    assert(shutil.which(\"pyomo\"))\n",
        "\n",
        "if not (shutil.which(\"cbc\") or os.path.isfile(\"cbc\")):\n",
        "    if \"google.colab\" in sys.modules:\n",
        "        !apt-get install -y -qq coinor-cbc\n",
        "    else:\n",
        "        try:\n",
        "            !conda install -c conda-forge coincbc\n",
        "        except:\n",
        "            pass\n",
        "\n",
        "assert(shutil.which(\"cbc\") or os.path.isfile(\"cbc\"))\n",
        "\n",
        "from pyomo.environ import *"
      ]
    },
    {
      "cell_type": "code",
      "execution_count": 8,
      "metadata": {
        "id": "qDVIMNijMvdt"
      },
      "outputs": [],
      "source": [
        "data = {\n",
        "    'Okhota': {'abv': 0.045, 'cost': 0.32},\n",
        "    'Baltika': {'abv': 0.037, 'cost': 0.25},\n",
        "    'Water': {'abv': 0.000, 'cost': 0.05},\n",
        "}"
      ]
    },
    {
      "cell_type": "code",
      "execution_count": 9,
      "metadata": {
        "id": "wiMRQRhcMvdt",
        "outputId": "d2cec374-4d2f-4ae7-b443-55b4f17be06e",
        "colab": {
          "base_uri": "https://localhost:8080/"
        }
      },
      "outputs": [
        {
          "output_type": "stream",
          "name": "stdout",
          "text": [
            "Optimal Blend\n",
            "   Okhota : 37.5 gallons\n",
            "   Baltika : 62.5 gallons\n",
            "   Water : 0.0 gallons\n",
            "\n",
            "Volume =  100.0 gallons\n",
            "Cost = $ 27.625\n"
          ]
        }
      ],
      "source": [
        "vol = 100\n",
        "abv = 0.04\n",
        "\n",
        "def beer_blend(vol, abv, data):\n",
        "    C = data.keys()\n",
        "    model = ConcreteModel()\n",
        "    model.x = Var(C, domain=NonNegativeReals)\n",
        "    model.cost = Objective(expr = sum(model.x[c]*data[c]['cost'] for c in C))\n",
        "    model.vol = Constraint(expr = vol == sum(model.x[c] for c in C))\n",
        "    model.abv = Constraint(expr = 0 == sum(model.x[c]*(data[c]['abv'] - abv) for c in C))\n",
        "\n",
        "    solver = SolverFactory('cbc')\n",
        "    solver.solve(model)\n",
        "\n",
        "    print('Optimal Blend')\n",
        "    for c in data.keys():\n",
        "        print('  ', c, ':', model.x[c](), 'gallons')\n",
        "    print()\n",
        "    print('Volume = ', model.vol(), 'gallons')\n",
        "    print('Cost = $', model.cost())\n",
        "\n",
        "beer_blend(vol, abv, data)"
      ]
    },
    {
      "cell_type": "code",
      "source": [],
      "metadata": {
        "id": "OAGi90UoNSSG"
      },
      "execution_count": null,
      "outputs": []
    }
  ],
  "metadata": {
    "language_info": {
      "name": "python"
    },
    "colab": {
      "provenance": [],
      "include_colab_link": true
    },
    "kernelspec": {
      "name": "python3",
      "display_name": "Python 3"
    }
  },
  "nbformat": 4,
  "nbformat_minor": 0
}