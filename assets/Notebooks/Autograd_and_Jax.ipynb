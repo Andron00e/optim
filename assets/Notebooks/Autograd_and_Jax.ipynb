{
  "cells": [
    {
      "cell_type": "markdown",
      "metadata": {
        "id": "1Dril9McCNUc"
      },
      "source": [
        "# Examples"
      ]
    },
    {
      "cell_type": "code",
      "execution_count": 3,
      "metadata": {},
      "outputs": [
        {
          "name": "stdout",
          "output_type": "stream",
          "text": [
            "Requirement already satisfied: autograd in /Users/bratishka/.pyenv/versions/3.9.17/envs/benchmarx/lib/python3.9/site-packages (1.6.2)\n",
            "Requirement already satisfied: numpy>=1.12 in /Users/bratishka/.pyenv/versions/3.9.17/envs/benchmarx/lib/python3.9/site-packages (from autograd) (1.25.2)\n",
            "Requirement already satisfied: future>=0.15.2 in /Users/bratishka/.pyenv/versions/3.9.17/envs/benchmarx/lib/python3.9/site-packages (from autograd) (0.18.3)\n",
            "\n",
            "\u001b[1m[\u001b[0m\u001b[34;49mnotice\u001b[0m\u001b[1;39;49m]\u001b[0m\u001b[39;49m A new release of pip is available: \u001b[0m\u001b[31;49m23.2.1\u001b[0m\u001b[39;49m -> \u001b[0m\u001b[32;49m23.3.1\u001b[0m\n",
            "\u001b[1m[\u001b[0m\u001b[34;49mnotice\u001b[0m\u001b[1;39;49m]\u001b[0m\u001b[39;49m To update, run: \u001b[0m\u001b[32;49mpython3.9 -m pip install --upgrade pip\u001b[0m\n"
          ]
        }
      ],
      "source": [
        "!pip install autograd"
      ]
    },
    {
      "cell_type": "markdown",
      "metadata": {
        "id": "17dTbFsrZvO7"
      },
      "source": [
        "## Autograd"
      ]
    },
    {
      "cell_type": "markdown",
      "metadata": {
        "id": "-3zcgEXDdbJ_"
      },
      "source": [
        "### Autograd library"
      ]
    },
    {
      "cell_type": "code",
      "execution_count": 4,
      "metadata": {
        "colab": {
          "base_uri": "https://localhost:8080/"
        },
        "id": "Kks0qWMwaKmy",
        "outputId": "471c3d04-bd2f-4a50-d43e-b94e7393f09a"
      },
      "outputs": [
        {
          "name": "stdout",
          "output_type": "stream",
          "text": [
            "Gradient of sin(pi) is -0.9998995297042174\n"
          ]
        }
      ],
      "source": [
        "import autograd.numpy as np # Thinly-wrapped version of Numpy\n",
        "from autograd import grad\n",
        "\n",
        "def taylor_sine(x): # Taylor approximation to sine function\n",
        "  ans = currterm = x\n",
        "  i = 0\n",
        "  while np.abs(currterm) > 0.001:\n",
        "    currterm = -currterm * x**2 / ((2 * i + 3) * (2 * i + 2))\n",
        "    ans = ans + currterm\n",
        "    i += 1\n",
        "  return ans\n",
        "\n",
        "grad_sine = grad(taylor_sine)\n",
        "print(f\"Gradient of sin(pi) is {grad_sine(np.pi)}\")"
      ]
    },
    {
      "cell_type": "markdown",
      "metadata": {
        "id": "iyT2PVyWdkfo"
      },
      "source": [
        "### PyTorch autograd"
      ]
    },
    {
      "cell_type": "markdown",
      "metadata": {
        "id": "Q6fKcYbrmrEb"
      },
      "source": [
        "#### Manual gradient implementation"
      ]
    },
    {
      "cell_type": "code",
      "execution_count": 7,
      "metadata": {
        "colab": {
          "base_uri": "https://localhost:8080/"
        },
        "id": "_gFZgGrceS7M",
        "outputId": "97e6e766-8c88-48b7-d5bb-cf3c8f8a55a9"
      },
      "outputs": [
        {
          "name": "stdout",
          "output_type": "stream",
          "text": [
            "Prediction before training: f(5) = 0.000\n",
            "epoch 1: w = 1.200, loss = 30.00000000\n",
            "epoch 3: w = 1.872, loss = 0.76800019\n",
            "epoch 5: w = 1.980, loss = 0.01966083\n",
            "epoch 7: w = 1.997, loss = 0.00050332\n",
            "epoch 9: w = 1.999, loss = 0.00001288\n",
            "epoch 11: w = 2.000, loss = 0.00000033\n",
            "epoch 13: w = 2.000, loss = 0.00000001\n",
            "epoch 15: w = 2.000, loss = 0.00000000\n",
            "epoch 17: w = 2.000, loss = 0.00000000\n",
            "epoch 19: w = 2.000, loss = 0.00000000\n",
            "Prediction after training: f(5) = 10.000\n"
          ]
        }
      ],
      "source": [
        "import numpy as np\n",
        "\n",
        "# Compute every step manually\n",
        "\n",
        "# Linear regression\n",
        "# f = w * x\n",
        "\n",
        "# here : f = 2 * x\n",
        "X = np.array([1, 2, 3, 4], dtype=np.float32)\n",
        "Y = np.array([2, 4, 6, 8], dtype=np.float32)\n",
        "\n",
        "w = 0.0\n",
        "\n",
        "# model output\n",
        "def forward(x):\n",
        "    return w * x\n",
        "\n",
        "# loss = MSE\n",
        "def loss(y, y_pred):\n",
        "    return ((y_pred - y)**2).mean()\n",
        "\n",
        "# J = MSE = 1/N * (w*x - y)**2\n",
        "# dJ/dw = 1/N * 2x(w*x - y)\n",
        "def gradient(x, y, y_pred):\n",
        "    return np.dot(2*x, y_pred - y).mean()\n",
        "\n",
        "print(f'Prediction before training: f(5) = {forward(5):.3f}')\n",
        "\n",
        "# Training\n",
        "learning_rate = 0.01\n",
        "n_iters = 20\n",
        "\n",
        "for epoch in range(n_iters):\n",
        "    # predict = forward pass\n",
        "    y_pred = forward(X)\n",
        "\n",
        "    # loss\n",
        "    l = loss(Y, y_pred)\n",
        "\n",
        "    # calculate gradients\n",
        "    dw = gradient(X, Y, y_pred)\n",
        "\n",
        "    # update weights\n",
        "    w -= learning_rate * dw\n",
        "\n",
        "    if epoch % 2 == 0:\n",
        "        print(f'epoch {epoch+1}: w = {w:.3f}, loss = {l:.8f}')\n",
        "\n",
        "print(f'Prediction after training: f(5) = {forward(5):.3f}')"
      ]
    },
    {
      "cell_type": "markdown",
      "metadata": {
        "id": "5-1Rj4lrnENJ"
      },
      "source": [
        "#### Automatic gradient"
      ]
    },
    {
      "cell_type": "code",
      "execution_count": 8,
      "metadata": {
        "colab": {
          "base_uri": "https://localhost:8080/"
        },
        "id": "6ey9MA2jnD5_",
        "outputId": "e0549276-4800-4ca9-cd0f-0467dab34088"
      },
      "outputs": [
        {
          "name": "stdout",
          "output_type": "stream",
          "text": [
            "Prediction before training: f(5) = 0.000\n",
            "epoch 1: w = 0.300, loss = 30.00000000\n",
            "epoch 11: w = 1.665, loss = 1.16278565\n",
            "epoch 21: w = 1.934, loss = 0.04506890\n",
            "epoch 31: w = 1.987, loss = 0.00174685\n",
            "epoch 41: w = 1.997, loss = 0.00006770\n",
            "epoch 51: w = 1.999, loss = 0.00000262\n",
            "epoch 61: w = 2.000, loss = 0.00000010\n",
            "epoch 71: w = 2.000, loss = 0.00000000\n",
            "epoch 81: w = 2.000, loss = 0.00000000\n",
            "epoch 91: w = 2.000, loss = 0.00000000\n",
            "Prediction after training: f(5) = 10.000\n"
          ]
        }
      ],
      "source": [
        "import torch\n",
        "\n",
        "# Here we replace the manually computed gradient with autograd\n",
        "\n",
        "# Linear regression\n",
        "# f = w * x\n",
        "\n",
        "# here : f = 2 * x\n",
        "X = torch.tensor([1, 2, 3, 4], dtype=torch.float32)\n",
        "Y = torch.tensor([2, 4, 6, 8], dtype=torch.float32)\n",
        "\n",
        "w = torch.tensor(0.0, dtype=torch.float32, requires_grad=True)\n",
        "\n",
        "# model output\n",
        "def forward(x):\n",
        "    return w * x\n",
        "\n",
        "# loss = MSE\n",
        "def loss(y, y_pred):\n",
        "    return ((y_pred - y)**2).mean()\n",
        "\n",
        "print(f'Prediction before training: f(5) = {forward(5).item():.3f}')\n",
        "\n",
        "# Training\n",
        "learning_rate = 0.01\n",
        "n_iters = 100\n",
        "\n",
        "for epoch in range(n_iters):\n",
        "    # predict = forward pass\n",
        "    y_pred = forward(X)\n",
        "\n",
        "    # loss\n",
        "    l = loss(Y, y_pred)\n",
        "\n",
        "    # calculate gradients = backward pass\n",
        "    l.backward()\n",
        "\n",
        "    # update weights\n",
        "    #w.data = w.data - learning_rate * w.grad\n",
        "    with torch.no_grad():\n",
        "        w -= learning_rate * w.grad\n",
        "\n",
        "    # zero the gradients after updating\n",
        "    w.grad.zero_()\n",
        "\n",
        "    if epoch % 10 == 0:\n",
        "        print(f'epoch {epoch+1}: w = {w.item():.3f}, loss = {l.item():.8f}')\n",
        "\n",
        "print(f'Prediction after training: f(5) = {forward(5).item():.3f}')"
      ]
    },
    {
      "cell_type": "markdown",
      "metadata": {
        "id": "03-jbiA2dpco"
      },
      "source": [
        "### Jax autograd\n",
        "JAX is NumPy on the CPU, GPU, and TPU, with great automatic differentiation for high-performance machine learning research."
      ]
    },
    {
      "cell_type": "code",
      "execution_count": 9,
      "metadata": {
        "colab": {
          "base_uri": "https://localhost:8080/"
        },
        "id": "HjlpgpI4eSop",
        "outputId": "dabc7dd1-4c94-4fc9-e332-7ea62726c9fa"
      },
      "outputs": [],
      "source": [
        "import jax.numpy as jnp\n",
        "from jax import grad, jit, vmap\n",
        "from jax import random\n",
        "\n",
        "key = random.PRNGKey(0)"
      ]
    },
    {
      "cell_type": "code",
      "execution_count": 10,
      "metadata": {
        "colab": {
          "base_uri": "https://localhost:8080/"
        },
        "id": "nv8S3QksfWRL",
        "outputId": "2c5fb6fd-8af0-4d08-afdb-df325d61addc"
      },
      "outputs": [
        {
          "name": "stdout",
          "output_type": "stream",
          "text": [
            "0.070650816\n"
          ]
        }
      ],
      "source": [
        "grad_tanh = grad(jnp.tanh)\n",
        "print(grad_tanh(2.0))"
      ]
    },
    {
      "cell_type": "code",
      "execution_count": 11,
      "metadata": {
        "colab": {
          "base_uri": "https://localhost:8080/"
        },
        "id": "lTU1jx3Cv8vK",
        "outputId": "1595d066-4728-44b1-abf3-1a0b89defcbb"
      },
      "outputs": [
        {
          "name": "stdout",
          "output_type": "stream",
          "text": [
            "-0.13621868\n",
            "0.25265405\n"
          ]
        }
      ],
      "source": [
        "print(grad(grad(jnp.tanh))(2.0))\n",
        "print(grad(grad(grad(jnp.tanh)))(2.0))"
      ]
    },
    {
      "cell_type": "code",
      "execution_count": 12,
      "metadata": {
        "id": "GBe3Ooc0fbv2"
      },
      "outputs": [],
      "source": [
        "def sigmoid(x):\n",
        "    return 0.5 * (jnp.tanh(x / 2) + 1)\n",
        "\n",
        "# Outputs probability of a label being true.\n",
        "def predict(W, b, inputs):\n",
        "    return sigmoid(jnp.dot(inputs, W) + b)\n",
        "\n",
        "# Build a toy dataset.\n",
        "inputs = jnp.array([[0.52, 1.12,  0.77],\n",
        "                   [0.88, -1.08, 0.15],\n",
        "                   [0.52, 0.06, -1.30],\n",
        "                   [0.74, -2.49, 1.39]])\n",
        "targets = jnp.array([True, True, False, True])\n",
        "\n",
        "# Training loss is the negative log-likelihood of the training examples.\n",
        "def loss(W, b):\n",
        "    preds = predict(W, b, inputs)\n",
        "    label_probs = preds * targets + (1 - preds) * (1 - targets)\n",
        "    return -jnp.sum(jnp.log(label_probs))\n",
        "\n",
        "# Initialize random model coefficients\n",
        "key, W_key, b_key = random.split(key, 3)\n",
        "W = random.normal(W_key, (3,))\n",
        "b = random.normal(b_key, ())"
      ]
    },
    {
      "cell_type": "code",
      "execution_count": 13,
      "metadata": {
        "colab": {
          "base_uri": "https://localhost:8080/"
        },
        "id": "tcti-2sWwFLq",
        "outputId": "b2757961-52ae-4ccd-ee73-e76e50c0086a"
      },
      "outputs": [
        {
          "name": "stdout",
          "output_type": "stream",
          "text": [
            "W_grad [-0.16965583 -0.8774644  -1.4901346 ]\n",
            "W_grad [-0.16965583 -0.8774644  -1.4901346 ]\n",
            "b_grad -0.29227245\n",
            "W_grad [-0.16965583 -0.8774644  -1.4901346 ]\n",
            "b_grad -0.29227245\n"
          ]
        }
      ],
      "source": [
        "# Differentiate `loss` with respect to the first positional argument:\n",
        "W_grad = grad(loss, argnums=0)(W, b)\n",
        "print('W_grad', W_grad)\n",
        "\n",
        "# Since argnums=0 is the default, this does the same thing:\n",
        "W_grad = grad(loss)(W, b)\n",
        "print('W_grad', W_grad)\n",
        "\n",
        "# But we can choose different values too, and drop the keyword:\n",
        "b_grad = grad(loss, 1)(W, b)\n",
        "print('b_grad', b_grad)\n",
        "\n",
        "# Including tuple values\n",
        "W_grad, b_grad = grad(loss, (0, 1))(W, b)\n",
        "print('W_grad', W_grad)\n",
        "print('b_grad', b_grad)"
      ]
    },
    {
      "cell_type": "markdown",
      "metadata": {
        "id": "2_upV46lwjqW"
      },
      "source": [
        "This `grad` API has a direct correspondence to the excellent notation in Spivak's classic *Calculus on Manifolds* (1965), also used in Sussman and Wisdom's [*Structure and Interpretation of Classical Mechanics*](http://mitpress.mit.edu/sites/default/files/titles/content/sicm_edition_2/book.html) (2015) and their [*Functional Differential Geometry*](https://mitpress.mit.edu/books/functional-differential-geometry) (2013). Both books are open-access. See in particular the \"Prologue\" section of *Functional Differential Geometry* for a defense of this notation.\n",
        "\n",
        "Essentially, when using the `argnums` argument, if `f` is a Python function for evaluating the mathematical function $f$, then the Python expression `grad(f, i)` evaluates to a Python function for evaluating $\\partial_i f$."
      ]
    },
    {
      "cell_type": "code",
      "execution_count": 14,
      "metadata": {
        "colab": {
          "base_uri": "https://localhost:8080/"
        },
        "id": "ze7pZhYiwtwd",
        "outputId": "f5442ac1-59b2-4ff2-ea5b-45f7d793ed89"
      },
      "outputs": [
        {
          "name": "stdout",
          "output_type": "stream",
          "text": [
            "loss value 3.0519388\n",
            "loss grad (Array([-0.16965583, -0.8774644 , -1.4901346 ], dtype=float32), Array(-0.29227245, dtype=float32))\n"
          ]
        }
      ],
      "source": [
        "from jax import value_and_grad\n",
        "loss_value, Wb_grad = value_and_grad(loss, (0, 1))(W, b)\n",
        "print('loss value', loss_value)\n",
        "print('loss grad', Wb_grad)"
      ]
    },
    {
      "cell_type": "markdown",
      "metadata": {
        "id": "hMY2oyFiznDD"
      },
      "source": [
        "#### Numerical vs automatic difference"
      ]
    },
    {
      "cell_type": "code",
      "execution_count": 15,
      "metadata": {
        "colab": {
          "base_uri": "https://localhost:8080/"
        },
        "id": "Pw_q0yPKzmzB",
        "outputId": "12380dfb-cfcd-4b16-8ef0-0ac2f1bbc1e4"
      },
      "outputs": [
        {
          "name": "stdout",
          "output_type": "stream",
          "text": [
            "b_grad_numerical -0.29325485\n",
            "b_grad_autodiff -0.29227245\n",
            "W_dirderiv_numerical -0.2002716\n",
            "W_dirderiv_autodiff -0.19909117\n"
          ]
        }
      ],
      "source": [
        "# Set a step size for finite differences calculations\n",
        "eps = 1e-4\n",
        "\n",
        "# Check b_grad with scalar finite differences\n",
        "b_grad_numerical = (loss(W, b + eps / 2.) - loss(W, b - eps / 2.)) / eps\n",
        "print('b_grad_numerical', b_grad_numerical)\n",
        "print('b_grad_autodiff', grad(loss, 1)(W, b))\n",
        "\n",
        "# Check W_grad with finite differences in a random direction\n",
        "key, subkey = random.split(key)\n",
        "vec = random.normal(subkey, W.shape)\n",
        "unitvec = vec / jnp.sqrt(jnp.vdot(vec, vec))\n",
        "W_grad_numerical = (loss(W + eps / 2. * unitvec, b) - loss(W - eps / 2. * unitvec, b)) / eps\n",
        "print('W_dirderiv_numerical', W_grad_numerical)\n",
        "print('W_dirderiv_autodiff', jnp.vdot(grad(loss)(W, b), unitvec))"
      ]
    },
    {
      "cell_type": "markdown",
      "metadata": {
        "id": "s4uEW9EG0D8F"
      },
      "source": [
        "JAX provides a simple convenience function that does essentially the same thing, but checks up to any order of differentiation that you like:"
      ]
    },
    {
      "cell_type": "code",
      "execution_count": 16,
      "metadata": {
        "colab": {
          "base_uri": "https://localhost:8080/"
        },
        "id": "_Vlll7ksw5dI",
        "outputId": "f15195e8-439c-4d01-ad70-538b067a5724"
      },
      "outputs": [],
      "source": [
        "from jax.test_util import check_grads\n",
        "check_grads(loss, (W, b), order=2)  # check up to 2nd order derivatives"
      ]
    },
    {
      "cell_type": "markdown",
      "metadata": {},
      "source": [
        "# Forward vs Reverse mode AD"
      ]
    },
    {
      "cell_type": "markdown",
      "metadata": {},
      "source": [
        "$$\n",
        "f(x) = \\max_{i = 1, \\ldots, n} (Ax)_i\n",
        "$$"
      ]
    },
    {
      "cell_type": "code",
      "execution_count": null,
      "metadata": {},
      "outputs": [
        {
          "data": {
            "application/vnd.jupyter.widget-view+json": {
              "model_id": "7195015d2976458bb843fa134512a33a",
              "version_major": 2,
              "version_minor": 0
            },
            "text/plain": [
              "  0%|          | 0/20 [00:00<?, ?it/s]"
            ]
          },
          "metadata": {},
          "output_type": "display_data"
        },
        {
          "name": "stdout",
          "output_type": "stream",
          "text": [
            "🤖 Input/Output ratio 0.01\n",
            "🤖 Forward time\n",
            "The slowest run took 37.12 times longer than the fastest. This could mean that an intermediate result is being cached.\n",
            "57.5 µs ± 117 µs per loop (mean ± std. dev. of 7 runs, 50 loops each)\n",
            "🤖 Reverse time\n",
            "The slowest run took 101.19 times longer than the fastest. This could mean that an intermediate result is being cached.\n",
            "49.1 µs ± 112 µs per loop (mean ± std. dev. of 7 runs, 50 loops each)\n",
            "🤖 Input/Output ratio 0.02\n",
            "🤖 Forward time\n",
            "9.24 µs ± 180 ns per loop (mean ± std. dev. of 7 runs, 50 loops each)\n",
            "🤖 Reverse time\n",
            "3.49 µs ± 71.3 ns per loop (mean ± std. dev. of 7 runs, 50 loops each)\n",
            "🤖 Input/Output ratio 0.03\n",
            "🤖 Forward time\n",
            "The slowest run took 45.70 times longer than the fastest. This could mean that an intermediate result is being cached.\n",
            "69.7 µs ± 141 µs per loop (mean ± std. dev. of 7 runs, 50 loops each)\n",
            "🤖 Reverse time\n",
            "The slowest run took 146.48 times longer than the fastest. This could mean that an intermediate result is being cached.\n",
            "90.2 µs ± 210 µs per loop (mean ± std. dev. of 7 runs, 50 loops each)\n",
            "🤖 Input/Output ratio 0.04\n",
            "🤖 Forward time\n",
            "The slowest run took 49.97 times longer than the fastest. This could mean that an intermediate result is being cached.\n",
            "69.5 µs ± 148 µs per loop (mean ± std. dev. of 7 runs, 50 loops each)\n",
            "🤖 Reverse time\n",
            "The slowest run took 101.74 times longer than the fastest. This could mean that an intermediate result is being cached.\n",
            "57.9 µs ± 132 µs per loop (mean ± std. dev. of 7 runs, 50 loops each)\n",
            "🤖 Input/Output ratio 0.07\n",
            "🤖 Forward time\n",
            "The slowest run took 44.04 times longer than the fastest. This could mean that an intermediate result is being cached.\n",
            "70.9 µs ± 149 µs per loop (mean ± std. dev. of 7 runs, 50 loops each)\n",
            "🤖 Reverse time\n",
            "The slowest run took 101.63 times longer than the fastest. This could mean that an intermediate result is being cached.\n",
            "59.8 µs ± 134 µs per loop (mean ± std. dev. of 7 runs, 50 loops each)\n",
            "🤖 Input/Output ratio 0.11\n",
            "🤖 Forward time\n",
            "The slowest run took 44.51 times longer than the fastest. This could mean that an intermediate result is being cached.\n",
            "82.4 µs ± 173 µs per loop (mean ± std. dev. of 7 runs, 50 loops each)\n",
            "🤖 Reverse time\n",
            "The slowest run took 130.18 times longer than the fastest. This could mean that an intermediate result is being cached.\n",
            "66.9 µs ± 155 µs per loop (mean ± std. dev. of 7 runs, 50 loops each)\n",
            "🤖 Input/Output ratio 0.18\n",
            "🤖 Forward time\n",
            "The slowest run took 40.05 times longer than the fastest. This could mean that an intermediate result is being cached.\n",
            "85.9 µs ± 177 µs per loop (mean ± std. dev. of 7 runs, 50 loops each)\n",
            "🤖 Reverse time\n",
            "The slowest run took 153.62 times longer than the fastest. This could mean that an intermediate result is being cached.\n",
            "85.1 µs ± 199 µs per loop (mean ± std. dev. of 7 runs, 50 loops each)\n",
            "🤖 Input/Output ratio 0.30\n",
            "🤖 Forward time\n",
            "The slowest run took 34.82 times longer than the fastest. This could mean that an intermediate result is being cached.\n",
            "97 µs ± 195 µs per loop (mean ± std. dev. of 7 runs, 50 loops each)\n",
            "🤖 Reverse time\n",
            "The slowest run took 181.71 times longer than the fastest. This could mean that an intermediate result is being cached.\n",
            "96.1 µs ± 226 µs per loop (mean ± std. dev. of 7 runs, 50 loops each)\n",
            "🤖 Input/Output ratio 0.48\n",
            "🤖 Forward time\n",
            "The slowest run took 28.01 times longer than the fastest. This could mean that an intermediate result is being cached.\n",
            "122 µs ± 233 µs per loop (mean ± std. dev. of 7 runs, 50 loops each)\n",
            "🤖 Reverse time\n",
            "The slowest run took 178.73 times longer than the fastest. This could mean that an intermediate result is being cached.\n",
            "101 µs ± 237 µs per loop (mean ± std. dev. of 7 runs, 50 loops each)\n",
            "🤖 Input/Output ratio 0.78\n",
            "🤖 Forward time\n",
            "The slowest run took 21.23 times longer than the fastest. This could mean that an intermediate result is being cached.\n",
            "139 µs ± 250 µs per loop (mean ± std. dev. of 7 runs, 50 loops each)\n",
            "🤖 Reverse time\n",
            "The slowest run took 170.27 times longer than the fastest. This could mean that an intermediate result is being cached.\n",
            "111 µs ± 259 µs per loop (mean ± std. dev. of 7 runs, 50 loops each)\n",
            "🤖 Input/Output ratio 1.27\n",
            "🤖 Forward time\n",
            "The slowest run took 10.34 times longer than the fastest. This could mean that an intermediate result is being cached.\n",
            "196 µs ± 257 µs per loop (mean ± std. dev. of 7 runs, 50 loops each)\n",
            "🤖 Reverse time\n",
            "The slowest run took 182.45 times longer than the fastest. This could mean that an intermediate result is being cached.\n",
            "120 µs ± 282 µs per loop (mean ± std. dev. of 7 runs, 50 loops each)\n",
            "🤖 Input/Output ratio 2.07\n",
            "🤖 Forward time\n",
            "The slowest run took 7.27 times longer than the fastest. This could mean that an intermediate result is being cached.\n",
            "270 µs ± 292 µs per loop (mean ± std. dev. of 7 runs, 50 loops each)\n",
            "🤖 Reverse time\n",
            "The slowest run took 134.45 times longer than the fastest. This could mean that an intermediate result is being cached.\n",
            "114 µs ± 265 µs per loop (mean ± std. dev. of 7 runs, 50 loops each)\n",
            "🤖 Input/Output ratio 3.36\n",
            "🤖 Forward time\n",
            "The slowest run took 5.98 times longer than the fastest. This could mean that an intermediate result is being cached.\n",
            "291 µs ± 270 µs per loop (mean ± std. dev. of 7 runs, 50 loops each)\n",
            "🤖 Reverse time\n",
            "The slowest run took 91.38 times longer than the fastest. This could mean that an intermediate result is being cached.\n",
            "113 µs ± 256 µs per loop (mean ± std. dev. of 7 runs, 50 loops each)\n",
            "🤖 Input/Output ratio 5.46\n",
            "🤖 Forward time\n",
            "The slowest run took 5.64 times longer than the fastest. This could mean that an intermediate result is being cached.\n",
            "260 µs ± 248 µs per loop (mean ± std. dev. of 7 runs, 50 loops each)\n",
            "🤖 Reverse time\n",
            "The slowest run took 62.08 times longer than the fastest. This could mean that an intermediate result is being cached.\n",
            "111 µs ± 245 µs per loop (mean ± std. dev. of 7 runs, 50 loops each)\n",
            "🤖 Input/Output ratio 8.86\n",
            "🤖 Forward time\n",
            "399 µs ± 264 µs per loop (mean ± std. dev. of 7 runs, 50 loops each)\n",
            "🤖 Reverse time\n",
            "The slowest run took 46.42 times longer than the fastest. This could mean that an intermediate result is being cached.\n",
            "121 µs ± 255 µs per loop (mean ± std. dev. of 7 runs, 50 loops each)\n",
            "🤖 Input/Output ratio 14.38\n",
            "🤖 Forward time\n",
            "706 µs ± 328 µs per loop (mean ± std. dev. of 7 runs, 50 loops each)\n",
            "🤖 Reverse time\n",
            "The slowest run took 34.96 times longer than the fastest. This could mean that an intermediate result is being cached.\n",
            "140 µs ± 282 µs per loop (mean ± std. dev. of 7 runs, 50 loops each)\n",
            "🤖 Input/Output ratio 23.36\n",
            "🤖 Forward time\n",
            "805 µs ± 288 µs per loop (mean ± std. dev. of 7 runs, 50 loops each)\n",
            "🤖 Reverse time\n",
            "The slowest run took 25.43 times longer than the fastest. This could mean that an intermediate result is being cached.\n",
            "160 µs ± 303 µs per loop (mean ± std. dev. of 7 runs, 50 loops each)\n",
            "🤖 Input/Output ratio 37.93\n",
            "🤖 Forward time\n",
            "1.13 ms ± 339 µs per loop (mean ± std. dev. of 7 runs, 50 loops each)\n",
            "🤖 Reverse time\n",
            "The slowest run took 13.58 times longer than the fastest. This could mean that an intermediate result is being cached.\n",
            "156 µs ± 242 µs per loop (mean ± std. dev. of 7 runs, 50 loops each)\n",
            "🤖 Input/Output ratio 61.58\n",
            "🤖 Forward time\n",
            "1.64 ms ± 301 µs per loop (mean ± std. dev. of 7 runs, 50 loops each)\n",
            "🤖 Reverse time\n",
            "The slowest run took 10.34 times longer than the fastest. This could mean that an intermediate result is being cached.\n",
            "210 µs ± 291 µs per loop (mean ± std. dev. of 7 runs, 50 loops each)\n",
            "🤖 Input/Output ratio 100.00\n",
            "🤖 Forward time\n",
            "2.4 ms ± 316 µs per loop (mean ± std. dev. of 7 runs, 50 loops each)\n",
            "🤖 Reverse time\n",
            "The slowest run took 6.11 times longer than the fastest. This could mean that an intermediate result is being cached.\n",
            "249 µs ± 248 µs per loop (mean ± std. dev. of 7 runs, 50 loops each)\n"
          ]
        },
        {
          "data": {
            "image/png": "[encoded data removed]",
            "text/plain": [
              "<Figure size 1000x500 with 1 Axes>"
            ]
          },
          "metadata": {},
          "output_type": "display_data"
        }
      ],
      "source": [
        "import jax\n",
        "import jax.numpy as jnp\n",
        "import matplotlib.pyplot as plt\n",
        "from tqdm.auto import tqdm\n",
        "\n",
        "# Fixing the value of n\n",
        "n = 100\n",
        "\n",
        "# Function to calculate the product of two matrices\n",
        "def matvec(A, x):\n",
        "    return jnp.max(A @ x)\n",
        "\n",
        "# Wrapper functions to calculate the Jacobian using forward and reverse mode AD\n",
        "@jax.jit\n",
        "def jac_fwd(A, x):\n",
        "    return jax.jacfwd(matvec, argnums=1)(A, x)\n",
        "\n",
        "@jax.jit\n",
        "def jac_rev(A, x):\n",
        "    return jax.jacrev(matvec, argnums=1)(A, x)\n",
        "\n",
        "# Range of m values\n",
        "m_values = jnp.logspace(0, 4, 20, dtype=jnp.float32)\n",
        "\n",
        "# Lists to store timing results\n",
        "times_fwd = []\n",
        "times_rev = []\n",
        "\n",
        "# Perform timing using %%timeit for each value of m\n",
        "for m in tqdm(m_values):\n",
        "    A = jax.random.normal(jax.random.PRNGKey(0), (int(m), n))\n",
        "    x = jax.random.normal(jax.random.PRNGKey(1), (n, 1))\n",
        "\n",
        "    print(f\"🤖 Input/Output ratio {m/n:.2f}\")\n",
        "\n",
        "    print(f\"🤖 Forward time\")\n",
        "    \n",
        "    # Forward mode timing\n",
        "    fwd_timing = %timeit -n 50 -o jac_fwd(A, x).block_until_ready()\n",
        "    times_fwd.append(fwd_timing.best)\n",
        "\n",
        "    print(f\"🤖 Reverse time\")\n",
        "    \n",
        "    # Reverse mode timing\n",
        "    rev_timing = %timeit -n 50 -o jac_rev(A, x).block_until_ready()\n",
        "    times_rev.append(rev_timing.best)\n",
        "\n",
        "# Plotting the results\n",
        "plt.figure(figsize=(10, 5))\n",
        "plt.plot([m_value / n for m_value in m_values], times_fwd, label='Forward Mode AD')\n",
        "plt.plot([m_value / n for m_value in m_values], times_rev, label='Reverse Mode AD')\n",
        "plt.xlabel('Ratio m/n')\n",
        "plt.ylabel(r'Time for $\\nabla_x f$ calculation, (seconds)')\n",
        "plt.title(r'Comparison of Forward Mode and Reverse Mode AD. $f(x) = \\max_i(Ax)$')\n",
        "plt.legend()\n",
        "plt.grid(linestyle=\":\")\n",
        "plt.xscale('log')\n",
        "plt.yscale('log') \n",
        "plt.savefig(\"forward_vs_reverse_ad_scalar_output.svg\")\n",
        "plt.show()"
      ]
    },
    {
      "cell_type": "markdown",
      "metadata": {},
      "source": [
        "$$\n",
        "f(x) = Ax\n",
        "$$"
      ]
    },
    {
      "cell_type": "code",
      "execution_count": 32,
      "metadata": {},
      "outputs": [
        {
          "data": {
            "application/vnd.jupyter.widget-view+json": {
              "model_id": "fd667bbf626c4097b5e1343bec8105da",
              "version_major": 2,
              "version_minor": 0
            },
            "text/plain": [
              "  0%|          | 0/20 [00:00<?, ?it/s]"
            ]
          },
          "metadata": {},
          "output_type": "display_data"
        },
        {
          "name": "stdout",
          "output_type": "stream",
          "text": [
            "🤖 Input/Output ratio 0.01\n",
            "🤖 Forward time\n",
            "The slowest run took 323.00 times longer than the fastest. This could mean that an intermediate result is being cached.\n",
            "421 µs ± 1.01 ms per loop (mean ± std. dev. of 7 runs, 5 loops each)\n",
            "🤖 Reverse time\n",
            "The slowest run took 783.68 times longer than the fastest. This could mean that an intermediate result is being cached.\n",
            "315 µs ± 765 µs per loop (mean ± std. dev. of 7 runs, 5 loops each)\n",
            "🤖 Input/Output ratio 0.02\n",
            "🤖 Forward time\n",
            "9.21 µs ± 608 ns per loop (mean ± std. dev. of 7 runs, 5 loops each)\n",
            "🤖 Reverse time\n",
            "3.17 µs ± 379 ns per loop (mean ± std. dev. of 7 runs, 5 loops each)\n",
            "🤖 Input/Output ratio 0.03\n",
            "🤖 Forward time\n",
            "The slowest run took 390.02 times longer than the fastest. This could mean that an intermediate result is being cached.\n",
            "503 µs ± 1.18 ms per loop (mean ± std. dev. of 7 runs, 5 loops each)\n",
            "🤖 Reverse time\n",
            "The slowest run took 1051.40 times longer than the fastest. This could mean that an intermediate result is being cached.\n",
            "488 µs ± 1.19 ms per loop (mean ± std. dev. of 7 runs, 5 loops each)\n",
            "🤖 Input/Output ratio 0.05\n",
            "🤖 Forward time\n",
            "The slowest run took 350.01 times longer than the fastest. This could mean that an intermediate result is being cached.\n",
            "401 µs ± 964 µs per loop (mean ± std. dev. of 7 runs, 5 loops each)\n",
            "🤖 Reverse time\n",
            "The slowest run took 799.69 times longer than the fastest. This could mean that an intermediate result is being cached.\n",
            "369 µs ± 897 µs per loop (mean ± std. dev. of 7 runs, 5 loops each)\n",
            "🤖 Input/Output ratio 0.09\n",
            "🤖 Forward time\n",
            "The slowest run took 344.16 times longer than the fastest. This could mean that an intermediate result is being cached.\n",
            "421 µs ± 1 ms per loop (mean ± std. dev. of 7 runs, 5 loops each)\n",
            "🤖 Reverse time\n",
            "The slowest run took 726.31 times longer than the fastest. This could mean that an intermediate result is being cached.\n",
            "372 µs ± 901 µs per loop (mean ± std. dev. of 7 runs, 5 loops each)\n",
            "🤖 Input/Output ratio 0.15\n",
            "🤖 Forward time\n",
            "The slowest run took 237.52 times longer than the fastest. This could mean that an intermediate result is being cached.\n",
            "399 µs ± 947 µs per loop (mean ± std. dev. of 7 runs, 5 loops each)\n",
            "🤖 Reverse time\n",
            "The slowest run took 666.18 times longer than the fastest. This could mean that an intermediate result is being cached.\n",
            "410 µs ± 993 µs per loop (mean ± std. dev. of 7 runs, 5 loops each)\n",
            "🤖 Input/Output ratio 0.26\n",
            "🤖 Forward time\n",
            "The slowest run took 207.68 times longer than the fastest. This could mean that an intermediate result is being cached.\n",
            "423 µs ± 999 µs per loop (mean ± std. dev. of 7 runs, 5 loops each)\n",
            "🤖 Reverse time\n",
            "The slowest run took 539.15 times longer than the fastest. This could mean that an intermediate result is being cached.\n",
            "423 µs ± 1.02 ms per loop (mean ± std. dev. of 7 runs, 5 loops each)\n",
            "🤖 Input/Output ratio 0.45\n",
            "🤖 Forward time\n",
            "The slowest run took 85.39 times longer than the fastest. This could mean that an intermediate result is being cached.\n",
            "444 µs ± 995 µs per loop (mean ± std. dev. of 7 runs, 5 loops each)\n",
            "🤖 Reverse time\n",
            "The slowest run took 296.52 times longer than the fastest. This could mean that an intermediate result is being cached.\n",
            "425 µs ± 1.02 ms per loop (mean ± std. dev. of 7 runs, 5 loops each)\n",
            "🤖 Input/Output ratio 0.78\n",
            "🤖 Forward time\n",
            "The slowest run took 100.36 times longer than the fastest. This could mean that an intermediate result is being cached.\n",
            "407 µs ± 931 µs per loop (mean ± std. dev. of 7 runs, 5 loops each)\n",
            "🤖 Reverse time\n",
            "The slowest run took 127.99 times longer than the fastest. This could mean that an intermediate result is being cached.\n",
            "412 µs ± 947 µs per loop (mean ± std. dev. of 7 runs, 5 loops each)\n",
            "🤖 Input/Output ratio 1.35\n",
            "🤖 Forward time\n",
            "The slowest run took 62.31 times longer than the fastest. This could mean that an intermediate result is being cached.\n",
            "469 µs ± 974 µs per loop (mean ± std. dev. of 7 runs, 5 loops each)\n",
            "🤖 Reverse time\n",
            "The slowest run took 36.21 times longer than the fastest. This could mean that an intermediate result is being cached.\n",
            "550 µs ± 1.1 ms per loop (mean ± std. dev. of 7 runs, 5 loops each)\n",
            "🤖 Input/Output ratio 2.34\n",
            "🤖 Forward time\n",
            "The slowest run took 38.68 times longer than the fastest. This could mean that an intermediate result is being cached.\n",
            "511 µs ± 1.02 ms per loop (mean ± std. dev. of 7 runs, 5 loops each)\n",
            "🤖 Reverse time\n",
            "The slowest run took 17.34 times longer than the fastest. This could mean that an intermediate result is being cached.\n",
            "697 µs ± 1.12 ms per loop (mean ± std. dev. of 7 runs, 5 loops each)\n",
            "🤖 Input/Output ratio 4.03\n",
            "🤖 Forward time\n",
            "The slowest run took 26.59 times longer than the fastest. This could mean that an intermediate result is being cached.\n",
            "551 µs ± 1 ms per loop (mean ± std. dev. of 7 runs, 5 loops each)\n",
            "🤖 Reverse time\n",
            "The slowest run took 11.00 times longer than the fastest. This could mean that an intermediate result is being cached.\n",
            "879 µs ± 1.2 ms per loop (mean ± std. dev. of 7 runs, 5 loops each)\n",
            "🤖 Input/Output ratio 6.95\n",
            "🤖 Forward time\n",
            "The slowest run took 15.04 times longer than the fastest. This could mean that an intermediate result is being cached.\n",
            "751 µs ± 1.12 ms per loop (mean ± std. dev. of 7 runs, 5 loops each)\n",
            "🤖 Reverse time\n",
            "The slowest run took 4.99 times longer than the fastest. This could mean that an intermediate result is being cached.\n",
            "1.83 ms ± 1.41 ms per loop (mean ± std. dev. of 7 runs, 5 loops each)\n",
            "🤖 Input/Output ratio 11.99\n",
            "🤖 Forward time\n",
            "The slowest run took 10.07 times longer than the fastest. This could mean that an intermediate result is being cached.\n",
            "818 µs ± 1.09 ms per loop (mean ± std. dev. of 7 runs, 5 loops each)\n",
            "🤖 Reverse time\n",
            "2.37 ms ± 1.3 ms per loop (mean ± std. dev. of 7 runs, 5 loops each)\n",
            "🤖 Input/Output ratio 20.69\n",
            "🤖 Forward time\n",
            "The slowest run took 10.89 times longer than the fastest. This could mean that an intermediate result is being cached.\n",
            "821 µs ± 1.09 ms per loop (mean ± std. dev. of 7 runs, 5 loops each)\n",
            "🤖 Reverse time\n",
            "4.77 ms ± 1.29 ms per loop (mean ± std. dev. of 7 runs, 5 loops each)\n",
            "🤖 Input/Output ratio 35.70\n",
            "🤖 Forward time\n",
            "The slowest run took 7.00 times longer than the fastest. This could mean that an intermediate result is being cached.\n",
            "1.16 ms ± 1.23 ms per loop (mean ± std. dev. of 7 runs, 5 loops each)\n",
            "🤖 Reverse time\n",
            "12.1 ms ± 1.9 ms per loop (mean ± std. dev. of 7 runs, 5 loops each)\n",
            "🤖 Input/Output ratio 61.58\n",
            "🤖 Forward time\n",
            "The slowest run took 4.65 times longer than the fastest. This could mean that an intermediate result is being cached.\n",
            "1.27 ms ± 1 ms per loop (mean ± std. dev. of 7 runs, 5 loops each)\n",
            "🤖 Reverse time\n",
            "37.8 ms ± 1.25 ms per loop (mean ± std. dev. of 7 runs, 5 loops each)\n",
            "🤖 Input/Output ratio 106.25\n",
            "🤖 Forward time\n",
            "1.73 ms ± 1.05 ms per loop (mean ± std. dev. of 7 runs, 5 loops each)\n",
            "🤖 Reverse time\n",
            "101 ms ± 6.12 ms per loop (mean ± std. dev. of 7 runs, 5 loops each)\n",
            "🤖 Input/Output ratio 183.30\n",
            "🤖 Forward time\n",
            "3.74 ms ± 1.74 ms per loop (mean ± std. dev. of 7 runs, 5 loops each)\n",
            "🤖 Reverse time\n",
            "305 ms ± 24 ms per loop (mean ± std. dev. of 7 runs, 5 loops each)\n",
            "🤖 Input/Output ratio 316.23\n",
            "🤖 Forward time\n",
            "3.26 ms ± 1.03 ms per loop (mean ± std. dev. of 7 runs, 5 loops each)\n",
            "🤖 Reverse time\n",
            "920 ms ± 68.1 ms per loop (mean ± std. dev. of 7 runs, 5 loops each)\n"
          ]
        },
        {
          "data": {
            "image/png": "[encoded data removed]",
            "text/plain": [
              "<Figure size 1000x500 with 1 Axes>"
            ]
          },
          "metadata": {},
          "output_type": "display_data"
        }
      ],
      "source": [
        "import jax\n",
        "import jax.numpy as jnp\n",
        "import matplotlib.pyplot as plt\n",
        "from tqdm.auto import tqdm\n",
        "\n",
        "# Fixing the value of n\n",
        "n = 100\n",
        "\n",
        "# Function to calculate the product of two matrices\n",
        "def matvec(A, x):\n",
        "    return A@x\n",
        "\n",
        "# Wrapper functions to calculate the Jacobian using forward and reverse mode AD\n",
        "@jax.jit\n",
        "def jac_fwd(A, x):\n",
        "    return jax.jacfwd(matvec, argnums=1)(A, x)\n",
        "\n",
        "@jax.jit\n",
        "def jac_rev(A, x):\n",
        "    return jax.jacrev(matvec, argnums=1)(A, x)\n",
        "\n",
        "# Range of m values\n",
        "m_values = jnp.logspace(0, 4.5, 20, dtype=jnp.float32)\n",
        "\n",
        "# Lists to store timing results\n",
        "times_fwd = []\n",
        "times_rev = []\n",
        "\n",
        "# Perform timing using %%timeit for each value of m\n",
        "for m in tqdm(m_values):\n",
        "    A = jax.random.normal(jax.random.PRNGKey(0), (int(m), n))\n",
        "    x = jax.random.normal(jax.random.PRNGKey(1), (n, 1))\n",
        "\n",
        "    print(f\"🤖 Input/Output ratio {m/n:.2f}\")\n",
        "\n",
        "    print(f\"🤖 Forward time\")\n",
        "    \n",
        "    # Forward mode timing\n",
        "    fwd_timing = %timeit -n 5 -o jac_fwd(A, x).block_until_ready()\n",
        "    times_fwd.append(fwd_timing.best)\n",
        "\n",
        "    print(f\"🤖 Reverse time\")\n",
        "    \n",
        "    # Reverse mode timing\n",
        "    rev_timing = %timeit -n 5 -o jac_rev(A, x).block_until_ready()\n",
        "    times_rev.append(rev_timing.best)\n",
        "\n",
        "# Plotting the results\n",
        "plt.figure(figsize=(10, 5))\n",
        "plt.plot([m_value / n for m_value in m_values], times_fwd, label='Forward Mode AD')\n",
        "plt.plot([m_value / n for m_value in m_values], times_rev, label='Reverse Mode AD')\n",
        "plt.xlabel('Ratio m/n')\n",
        "plt.ylabel(r'Time for $\\nabla_x f$ calculation, (seconds)')\n",
        "plt.title(r'Comparison of Forward Mode and Reverse Mode AD. $f(x) = Ax$')\n",
        "plt.legend()\n",
        "plt.grid(linestyle=\":\")\n",
        "plt.xscale('log')\n",
        "plt.yscale('log') \n",
        "plt.savefig(\"forward_vs_reverse_ad.svg\")\n",
        "plt.show()"
      ]
    },
    {
      "cell_type": "markdown",
      "metadata": {
        "id": "CGj7IKkQd1B8"
      },
      "source": [
        "# Sources\n",
        "* [HIPS autograd](https://github.com/HIPS/autograd/blob/master/docs/tutorial.md)\n",
        "* [PyTorch autograd](https://www.python-engineer.com/courses/pytorchbeginner/05-gradient-descent/)\n",
        "* [Jax Autodiff cookbook](https://colab.research.google.com/github/google/jax/blob/master/docs/notebooks/autodiff_cookbook.ipynb#scrollTo=RsQSyT5p7OJW)"
      ]
    }
  ],
  "metadata": {
    "colab": {
      "name": "intro_opt_2.ipynb",
      "provenance": []
    },
    "kernelspec": {
      "display_name": "Python 3",
      "name": "python3"
    },
    "language_info": {
      "codemirror_mode": {
        "name": "ipython",
        "version": 3
      },
      "file_extension": ".py",
      "mimetype": "text/x-python",
      "name": "python",
      "nbconvert_exporter": "python",
      "pygments_lexer": "ipython3",
      "version": "3.9.17"
    }
  },
  "nbformat": 4,
  "nbformat_minor": 0
}
