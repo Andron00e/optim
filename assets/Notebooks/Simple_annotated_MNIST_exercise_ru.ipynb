{
  "nbformat": 4,
  "nbformat_minor": 0,
  "metadata": {
    "accelerator": "GPU",
    "colab": {
      "provenance": [],
      "toc_visible": true,
      "include_colab_link": true
    },
    "kernelspec": {
      "display_name": "Python 3",
      "name": "python3"
    },
    "language_info": {
      "name": "python"
    }
  },
  "cells": [
    {
      "cell_type": "markdown",
      "metadata": {
        "id": "view-in-github",
        "colab_type": "text"
      },
      "source": [
        "<a href=\"https://colab.research.google.com/github/MerkulovDaniil/optim/blob/master/assets/Notebooks/Simple_annotated_MNIST_exercise_ru.ipynb\" target=\"_parent\"><img src=\"https://colab.research.google.com/assets/colab-badge.svg\" alt=\"Open In Colab\"/></a>"
      ]
    },
    {
      "cell_type": "code",
      "metadata": {
        "id": "EN9JMXMDC2hR"
      },
      "source": [
        "# Установка нужных библиотек для питона. Запустите ячейку, нажав Shift + Enter.\n",
        "# Для того, чтобы пройти практику в режиме слушателя (не выполняя упражнений и\n",
        "# ничего не модифицируя) достаточно просто выполнять ячейки друг за другом,\n",
        "# нажимая Shift + Enter\n",
        "!pip install numpy --quiet\n",
        "!pip install tensorflow --quiet\n",
        "!pip install pandas --quiet\n",
        "!pip install keras --quiet"
      ],
      "execution_count": null,
      "outputs": []
    },
    {
      "cell_type": "markdown",
      "metadata": {
        "id": "kTCbKQQvEhb8"
      },
      "source": [
        "# 🔢 Нейросеть для распознавания рукописных цифр с нуля!\n",
        "\n",
        "![](https://upload.wikimedia.org/wikipedia/commons/2/27/MnistExamples.png)"
      ]
    },
    {
      "cell_type": "markdown",
      "metadata": {
        "id": "7ofxvJirWvlp"
      },
      "source": [
        "Нам нужно распознать рукописные цифры по их изображениям. Так как цифр 10, то в нашей задаче классификации 10 классов.\n",
        "\n",
        "Наш набор данных MNIST часто используется для демонстрации возможностей различных алгоритмов машинного и глубинного обучения, так как для него достаточно просто добиться хорошей точности работы."
      ]
    },
    {
      "cell_type": "markdown",
      "metadata": {
        "id": "Tl72AZCwdwn4"
      },
      "source": [
        "## ✍️ Процесс анализа данных:\n",
        "1. Загрузим данные для обучения и тестирования\n",
        "2. Предобработаем данные\n",
        "3. Создадим модель для обучения\n",
        "4. Обучим модель\n",
        "5. Протестриуем модель\n",
        "6. Попробуем улучшить модель"
      ]
    },
    {
      "cell_type": "markdown",
      "metadata": {
        "id": "T6aUApHy4OzK"
      },
      "source": [
        "Загрузим необходимые библиотеки: `keras` для работы с нейросетями, `numpy` для научных вычислений, `matplotlib` для построения графиков.\n",
        "\n",
        "* Наша нейронная сеть будет делать ряд последовательных преобразований данных, поэтому нам нужен тип нейронных сетей Sequential\n",
        "* Типы преобразваний, с которыми мы будем работать: плотный слой Dense, активация Activation, преобразование матрицы в длинный вектор Flatten.\n",
        "\n",
        "Еще мы будем использовать данные MNIST - они могут быть загружены из открытых источников с помощью keras.\n",
        "\n",
        "Выполните ячейку ниже:"
      ]
    },
    {
      "cell_type": "code",
      "metadata": {
        "id": "9G11oTPyL1XP"
      },
      "source": [
        "from tensorflow import keras\n",
        "from keras.models import Sequential\n",
        "from keras.layers import Dense, Activation, Flatten\n",
        "import keras.datasets\n",
        "\n",
        "import numpy as np\n",
        "from matplotlib import pyplot as plt"
      ],
      "execution_count": null,
      "outputs": []
    },
    {
      "cell_type": "markdown",
      "metadata": {
        "id": "AIpnql06YNc7"
      },
      "source": [
        "## 📦 1. Загрузка данных.\n",
        "\n",
        "В keras уже есть несколько популярных датасетов, которые можно легко загрузить. Давайте загрузим набор данных MNIST."
      ]
    },
    {
      "cell_type": "code",
      "metadata": {
        "id": "MRc87g0JL1XR"
      },
      "source": [
        "(X_train, y_train), (X_test, y_test) = keras.datasets.mnist.load_data()"
      ],
      "execution_count": null,
      "outputs": []
    },
    {
      "cell_type": "code",
      "metadata": {
        "colab": {
          "base_uri": "https://localhost:8080/"
        },
        "id": "6tm4H_PLgcld",
        "outputId": "997751f8-fe98-4837-f5a3-3ec8515565b9"
      },
      "source": [
        "print(f\"🤖 Всего {X_train.shape[0]} изображений в обучающей выборке и {X_test.shape[0]} в тестовой.\")\n",
        "print(f\"🤖 Вот так выглядит первый элемент нашей обучающей выборки. Это матрица размера {X_train[0].shape}\")\n",
        "print(X_train[0])"
      ],
      "execution_count": null,
      "outputs": [
        {
          "output_type": "stream",
          "name": "stdout",
          "text": [
            "🤖 Всего 60000 изображений в обучающей выборке и 10000 в тестовой.\n",
            "🤖 Вот так выглядит первый элемент нашей обучающей выборки. Это матрица размера (28, 28)\n",
            "[[  0   0   0   0   0   0   0   0   0   0   0   0   0   0   0   0   0   0\n",
            "    0   0   0   0   0   0   0   0   0   0]\n",
            " [  0   0   0   0   0   0   0   0   0   0   0   0   0   0   0   0   0   0\n",
            "    0   0   0   0   0   0   0   0   0   0]\n",
            " [  0   0   0   0   0   0   0   0   0   0   0   0   0   0   0   0   0   0\n",
            "    0   0   0   0   0   0   0   0   0   0]\n",
            " [  0   0   0   0   0   0   0   0   0   0   0   0   0   0   0   0   0   0\n",
            "    0   0   0   0   0   0   0   0   0   0]\n",
            " [  0   0   0   0   0   0   0   0   0   0   0   0   0   0   0   0   0   0\n",
            "    0   0   0   0   0   0   0   0   0   0]\n",
            " [  0   0   0   0   0   0   0   0   0   0   0   0   3  18  18  18 126 136\n",
            "  175  26 166 255 247 127   0   0   0   0]\n",
            " [  0   0   0   0   0   0   0   0  30  36  94 154 170 253 253 253 253 253\n",
            "  225 172 253 242 195  64   0   0   0   0]\n",
            " [  0   0   0   0   0   0   0  49 238 253 253 253 253 253 253 253 253 251\n",
            "   93  82  82  56  39   0   0   0   0   0]\n",
            " [  0   0   0   0   0   0   0  18 219 253 253 253 253 253 198 182 247 241\n",
            "    0   0   0   0   0   0   0   0   0   0]\n",
            " [  0   0   0   0   0   0   0   0  80 156 107 253 253 205  11   0  43 154\n",
            "    0   0   0   0   0   0   0   0   0   0]\n",
            " [  0   0   0   0   0   0   0   0   0  14   1 154 253  90   0   0   0   0\n",
            "    0   0   0   0   0   0   0   0   0   0]\n",
            " [  0   0   0   0   0   0   0   0   0   0   0 139 253 190   2   0   0   0\n",
            "    0   0   0   0   0   0   0   0   0   0]\n",
            " [  0   0   0   0   0   0   0   0   0   0   0  11 190 253  70   0   0   0\n",
            "    0   0   0   0   0   0   0   0   0   0]\n",
            " [  0   0   0   0   0   0   0   0   0   0   0   0  35 241 225 160 108   1\n",
            "    0   0   0   0   0   0   0   0   0   0]\n",
            " [  0   0   0   0   0   0   0   0   0   0   0   0   0  81 240 253 253 119\n",
            "   25   0   0   0   0   0   0   0   0   0]\n",
            " [  0   0   0   0   0   0   0   0   0   0   0   0   0   0  45 186 253 253\n",
            "  150  27   0   0   0   0   0   0   0   0]\n",
            " [  0   0   0   0   0   0   0   0   0   0   0   0   0   0   0  16  93 252\n",
            "  253 187   0   0   0   0   0   0   0   0]\n",
            " [  0   0   0   0   0   0   0   0   0   0   0   0   0   0   0   0   0 249\n",
            "  253 249  64   0   0   0   0   0   0   0]\n",
            " [  0   0   0   0   0   0   0   0   0   0   0   0   0   0  46 130 183 253\n",
            "  253 207   2   0   0   0   0   0   0   0]\n",
            " [  0   0   0   0   0   0   0   0   0   0   0   0  39 148 229 253 253 253\n",
            "  250 182   0   0   0   0   0   0   0   0]\n",
            " [  0   0   0   0   0   0   0   0   0   0  24 114 221 253 253 253 253 201\n",
            "   78   0   0   0   0   0   0   0   0   0]\n",
            " [  0   0   0   0   0   0   0   0  23  66 213 253 253 253 253 198  81   2\n",
            "    0   0   0   0   0   0   0   0   0   0]\n",
            " [  0   0   0   0   0   0  18 171 219 253 253 253 253 195  80   9   0   0\n",
            "    0   0   0   0   0   0   0   0   0   0]\n",
            " [  0   0   0   0  55 172 226 253 253 253 253 244 133  11   0   0   0   0\n",
            "    0   0   0   0   0   0   0   0   0   0]\n",
            " [  0   0   0   0 136 253 253 253 212 135 132  16   0   0   0   0   0   0\n",
            "    0   0   0   0   0   0   0   0   0   0]\n",
            " [  0   0   0   0   0   0   0   0   0   0   0   0   0   0   0   0   0   0\n",
            "    0   0   0   0   0   0   0   0   0   0]\n",
            " [  0   0   0   0   0   0   0   0   0   0   0   0   0   0   0   0   0   0\n",
            "    0   0   0   0   0   0   0   0   0   0]\n",
            " [  0   0   0   0   0   0   0   0   0   0   0   0   0   0   0   0   0   0\n",
            "    0   0   0   0   0   0   0   0   0   0]]\n"
          ]
        }
      ]
    },
    {
      "cell_type": "markdown",
      "metadata": {
        "id": "TNB3heFHYWfC"
      },
      "source": [
        "## 🎁 2. Подготовка данных\n",
        "**Нормализация значений на [0,1] и перевод целевой переменной в one-hot формат**\n",
        "\n",
        "Нормализация данных часто способствует более стабильному обучению ML моделей. Здесь мы сделаем так, чтобы значения всех входных признаков лежали в интервале от 0 до 1. Это делаем делением на 255 (потому что, как видно выше, сейчас это целые числа от 0 до 255).\n",
        "\n",
        "Еще нейронной сети нужно значение выходной переменной в one-hot формате.\n",
        "Это делаем функцией из keras keras.utils.to_categorical, которая принимает на вход исходный вектор значений выходной переменной и число классов."
      ]
    },
    {
      "cell_type": "code",
      "metadata": {
        "id": "hbw-RAM2Y6tT"
      },
      "source": [
        "X_train = X_train / 255\n",
        "X_test = X_test / 255\n",
        "\n",
        "y_train = keras.utils.to_categorical(y_train, 10)\n",
        "y_test = keras.utils.to_categorical(y_test, 10)"
      ],
      "execution_count": null,
      "outputs": []
    },
    {
      "cell_type": "code",
      "metadata": {
        "colab": {
          "base_uri": "https://localhost:8080/",
          "height": 942
        },
        "id": "fW8rMYS6OASh",
        "outputId": "a34fdf6f-b9a5-4a9b-dfde-e28ba6260ffa"
      },
      "source": [
        "# Helper functions for images.\n",
        "\n",
        "def show_img(img, ax=None, title=None):\n",
        "    \"\"\"Shows a single image.\"\"\"\n",
        "    if ax is None:\n",
        "        ax = plt.gca()\n",
        "    ax.imshow(img, cmap='gray')\n",
        "    ax.set_xticks([])\n",
        "    ax.set_yticks([])\n",
        "    if title:\n",
        "        ax.set_title(title)\n",
        "\n",
        "def show_img_grid(imgs, titles):\n",
        "    \"\"\"Shows a grid of images.\"\"\"\n",
        "    n = int(np.ceil(len(imgs)**.5))\n",
        "    _, axs = plt.subplots(n, n, figsize=(3 * n, 3 * n))\n",
        "    for i, (img, title) in enumerate(zip(imgs, titles)):\n",
        "        show_img(img, axs[i // n][i % n], title)\n",
        "\n",
        "def show_examples(data, label, predicted = None):\n",
        "    idxs = np.random.randint(0, len(data), 25)\n",
        "    if np.array(label).max() <= 1:\n",
        "        label = np.argmax(label, axis=-1)\n",
        "\n",
        "    if predicted is not None:\n",
        "        if np.array(predicted).max() <= 1:\n",
        "            predicted = np.argmax(predicted, axis=-1)\n",
        "    show_img_grid(\n",
        "    [data[idx] for idx in idxs],\n",
        "    [f'Метка: {label[idx]}' if predicted is None else f'Метка: {label[idx]}. Предсказание: {predicted[idx]}' for idx in idxs],\n",
        "    )\n",
        "\n",
        "show_examples(X_test, y_test)"
      ],
      "execution_count": null,
      "outputs": [
        {
          "output_type": "display_data",
          "data": {
            "text/plain": [
              "<Figure size 1500x1500 with 25 Axes>"
            ],
            "image/png": "[encoded data removed]"
          },
          "metadata": {}
        }
      ]
    },
    {
      "cell_type": "markdown",
      "metadata": {
        "id": "S2986SBBZJIs"
      },
      "source": [
        "Посмотрим на то, в каком виде у нас хранятся входные признаки, напечатав размер первого объекта из обучающей выборки.\n",
        "\n",
        "Для данных MNIST это изображения 28 на 28."
      ]
    },
    {
      "cell_type": "code",
      "metadata": {
        "colab": {
          "base_uri": "https://localhost:8080/"
        },
        "id": "VGjF5U_eL1XU",
        "outputId": "dfeeb27e-ba9a-4512-85a3-34a0a1010020"
      },
      "source": [
        "input_size = X_train[0].shape\n",
        "print(f\"🤖 Размер изображения {input_size} пикселей\")\n",
        "print(f\"🤖 Значения всех пикселей лежат в диапазоне от {X_train.min()} до {X_train.max()}\")\n",
        "print(f\"🤖 Метка класса первой картинки в исходном формате {np.argmax(y_train[0])}\")\n",
        "print(f\"🤖 Метка класса первой картинки в one-hot формате {y_train[0]}\")"
      ],
      "execution_count": null,
      "outputs": [
        {
          "output_type": "stream",
          "name": "stdout",
          "text": [
            "🤖 Размер изображения (28, 28) пикселей\n",
            "🤖 Значения всех пикселей лежат в диапазоне от 0.0 до 1.0\n",
            "🤖 Метка класса первой картинки в исходном формате 5\n",
            "🤖 Метка класса первой картинки в one-hot формате [0. 0. 0. 0. 0. 1. 0. 0. 0. 0.]\n"
          ]
        }
      ]
    },
    {
      "cell_type": "markdown",
      "metadata": {
        "id": "MMKOCnmMZgk_"
      },
      "source": [
        "## 💃 3. Создание модели для обучения\n",
        "\n",
        "Sequential здесь означает последовательный тип модели, в который мы добавляем слои друг за другом.\n",
        "\n",
        "**Добавляем в модель слой за слоем.**\n",
        "\n",
        "* Сначала вытягиваем картинку в длинный вектор слоем Flatten\n",
        "* Потом идет полносвязный слой - нейроны в следующем слое зависят от всех переменных в предыдущем\n",
        "* Далее применяем нелинейное преобразование ReLU\n",
        "* Потом идет следующий полносвязный слой. В нем 10 выходов - по числу классов.\n",
        "* В конце используем функцию активации softmax (она превращает любой вектор из 10 чисел в вектор вероятностей, т.е. все компоненты неотрицательные, а их сумма равна 1)\n"
      ]
    },
    {
      "cell_type": "code",
      "metadata": {
        "id": "7L_idgx4aTSQ"
      },
      "source": [
        "model = Sequential()\n",
        "\n",
        "model.add(Flatten())\n",
        "model.add(Dense(units=16))\n",
        "model.add(Activation('relu'))\n",
        "model.add(Dense(units=10))\n",
        "model.add(Activation('softmax'))"
      ],
      "execution_count": null,
      "outputs": []
    },
    {
      "cell_type": "markdown",
      "metadata": {
        "id": "dXa68zvcabbz"
      },
      "source": [
        "После описания архитектуры необходимо скомпилировать модель, указав минимизируемую функцию потерь,\n",
        "оптимизатор и попросив модель выводить точность работы на тестовой выорке в процессе обучения"
      ]
    },
    {
      "cell_type": "code",
      "metadata": {
        "id": "m07_4onHL1XZ"
      },
      "source": [
        "model.compile(loss='categorical_crossentropy',\n",
        "              optimizer='adam',\n",
        "              metrics=['accuracy'])"
      ],
      "execution_count": null,
      "outputs": []
    },
    {
      "cell_type": "markdown",
      "metadata": {
        "id": "C_hq5K6Oahnr"
      },
      "source": [
        "## 👨‍🏫 4. Обучение модели\n",
        "**Тренировка с указанием данных, числа эпох и размера подвыборки**\n",
        "\n",
        "Теперь задана структура модели и то, как мы будем ее обучать.\n",
        "Делаем это аналогично sklearn - с помощью метода fit.\n",
        "\n",
        "После запуска fit мы оптимизируем параметры градиентным спуском.\n",
        "На каждом шаге градиентного спуска мы используем функцию потерь, которая подсчитана только по части полной выборки.\n",
        "\n",
        "Два дополнительных параметра для обучения:\n",
        "* batch_size - размер подвыборки, которая используется для одного шага оптимизации\n",
        "* epochs - число эпох - сколько раз мы проходим полностью по всей выборке\n",
        "\n",
        "\n"
      ]
    },
    {
      "cell_type": "code",
      "metadata": {
        "colab": {
          "base_uri": "https://localhost:8080/"
        },
        "id": "1yJBEO5MawBa",
        "outputId": "e9f2526f-e39e-40e4-87ed-acc0e0c8aa2f"
      },
      "source": [
        "model.fit(X_train, y_train, epochs=5, batch_size=128)"
      ],
      "execution_count": null,
      "outputs": [
        {
          "output_type": "stream",
          "name": "stdout",
          "text": [
            "Epoch 1/5\n",
            "469/469 [==============================] - 2s 3ms/step - loss: 0.6130 - accuracy: 0.8381\n",
            "Epoch 2/5\n",
            "469/469 [==============================] - 1s 3ms/step - loss: 0.2881 - accuracy: 0.9190\n",
            "Epoch 3/5\n",
            "469/469 [==============================] - 3s 5ms/step - loss: 0.2458 - accuracy: 0.9302\n",
            "Epoch 4/5\n",
            "469/469 [==============================] - 2s 4ms/step - loss: 0.2223 - accuracy: 0.9366\n",
            "Epoch 5/5\n",
            "469/469 [==============================] - 1s 3ms/step - loss: 0.2059 - accuracy: 0.9413\n"
          ]
        },
        {
          "output_type": "execute_result",
          "data": {
            "text/plain": [
              "<keras.callbacks.History at 0x7f71e6793610>"
            ]
          },
          "metadata": {},
          "execution_count": 95
        }
      ]
    },
    {
      "cell_type": "markdown",
      "metadata": {
        "id": "WCthVeR-dUHe"
      },
      "source": [
        "Можно посмотреть, какие карточки мы использовали для обучения модели."
      ]
    },
    {
      "cell_type": "code",
      "metadata": {
        "colab": {
          "base_uri": "https://localhost:8080/"
        },
        "id": "jhqGc2gFMkWV",
        "outputId": "54e750c9-6e2d-4f9d-f439-d132b8102ecd"
      },
      "source": [
        "import subprocess\n",
        "import cpuinfo\n",
        "import tensorflow as tf\n",
        "\n",
        "# Check CPU information\n",
        "cpu_info = tf.config.list_physical_devices('CPU')\n",
        "print(\"🤖 CPU Information:\")\n",
        "\n",
        "# Get CPU model name\n",
        "cpu_model = cpuinfo.get_cpu_info()['brand_raw']\n",
        "print(f\"🤖 CPU Model: {cpu_model}\")\n",
        "\n",
        "# Check RAM information\n",
        "ram_info = subprocess.check_output(\"free -m\", shell=True).decode().split(\"\\n\")[1].split()\n",
        "if len(ram_info) >= 7:\n",
        "    ram_total = int(ram_info[1])\n",
        "    ram_used = int(ram_info[2])\n",
        "    ram_available = int(ram_info[6])\n",
        "    print(\"\\n🤖 RAM Information:\")\n",
        "    print(f\"🤖 RAM Total: {ram_total} MiB\")\n",
        "    print(f\"🤖 RAM Used: {ram_used} MiB\")\n",
        "    print(f\"🤖 RAM Available: {ram_available} MiB\")\n",
        "else:\n",
        "    print(\"🤖 Unable to retrieve RAM information\")\n",
        "\n",
        "# Check GPU information\n",
        "gpu_info = tf.config.list_physical_devices('GPU')\n",
        "if gpu_info:\n",
        "    print(\"\\n🤖 GPU Information:\")\n",
        "    for i, gpu in enumerate(gpu_info):\n",
        "        print(f\"🤖 GPU {i+1}:\")\n",
        "        device_name = tf.test.gpu_device_name()\n",
        "        if device_name != \"\":\n",
        "            gpu_name = subprocess.check_output([\"nvidia-smi\", \"--query-gpu=name\", \"--format=csv,noheader\"], universal_newlines=True)\n",
        "            print(f\"🤖 GPU Model: {gpu_name.strip()}\")\n",
        "        else:\n",
        "            print(\"🤖 GPU Model: Unknown\")\n",
        "else:\n",
        "    print(\"\\n🤖 GPU not available\")\n",
        "\n",
        "# Check memory usage\n",
        "print(\"\\n🤖 Memory Information:\")\n",
        "if gpu_info:\n",
        "    total_gpu_memory = 0\n",
        "    for i, gpu in enumerate(gpu_info):\n",
        "        try:\n",
        "            cmd = f\"nvidia-smi --query-gpu=memory.total,memory.used --format=csv,nounits,noheader\"\n",
        "            result = subprocess.check_output(cmd.split(), universal_newlines=True)\n",
        "            gpu_memory = [int(x) for x in result.strip().split(',')]\n",
        "            total_gpu_memory += gpu_memory[0]\n",
        "            print(f\"🤖 GPU {i+1} Memory Used: {gpu_memory[1]} MiB\")\n",
        "        except subprocess.CalledProcessError as e:\n",
        "            print(f\"🤖 Error retrieving memory information for GPU {i+1}: {e}\")\n",
        "    print(f\"🤖 Total GPU Memory Available: {total_gpu_memory} MiB\")\n",
        "else:\n",
        "    print(\"🤖 CPU Memory: Not applicable\")\n"
      ],
      "execution_count": null,
      "outputs": [
        {
          "output_type": "stream",
          "name": "stdout",
          "text": [
            "🤖 CPU Information:\n",
            "🤖 CPU Model: Intel(R) Xeon(R) CPU @ 2.30GHz\n",
            "\n",
            "🤖 RAM Information:\n",
            "🤖 RAM Total: 12982 MiB\n",
            "🤖 RAM Used: 4238 MiB\n",
            "🤖 RAM Available: 8441 MiB\n",
            "\n",
            "🤖 GPU Information:\n",
            "🤖 GPU 1:\n",
            "🤖 GPU Model: Tesla T4\n",
            "\n",
            "🤖 Memory Information:\n",
            "🤖 GPU 1 Memory Used: 1659 MiB\n",
            "🤖 Total GPU Memory Available: 15360 MiB\n"
          ]
        }
      ]
    },
    {
      "cell_type": "markdown",
      "metadata": {
        "id": "RlpUm6MadcGt"
      },
      "source": [
        "Еще можно посмотреть на нашу модель в целом: сколько в ней слоев, сколько параметров у каждого слоя с помощью команды model.summary()"
      ]
    },
    {
      "cell_type": "code",
      "metadata": {
        "colab": {
          "base_uri": "https://localhost:8080/"
        },
        "id": "-eD6-YNjL1Xb",
        "outputId": "d53ca557-b54e-4ddd-820b-c60080df2b1b"
      },
      "source": [
        "model.summary()"
      ],
      "execution_count": null,
      "outputs": [
        {
          "output_type": "stream",
          "name": "stdout",
          "text": [
            "Model: \"sequential_4\"\n",
            "_________________________________________________________________\n",
            " Layer (type)                Output Shape              Param #   \n",
            "=================================================================\n",
            " flatten_5 (Flatten)         (None, 784)               0         \n",
            "                                                                 \n",
            " dense_10 (Dense)            (None, 16)                12560     \n",
            "                                                                 \n",
            " activation_10 (Activation)  (None, 16)                0         \n",
            "                                                                 \n",
            " dense_11 (Dense)            (None, 10)                170       \n",
            "                                                                 \n",
            " activation_11 (Activation)  (None, 10)                0         \n",
            "                                                                 \n",
            "=================================================================\n",
            "Total params: 12,730\n",
            "Trainable params: 12,730\n",
            "Non-trainable params: 0\n",
            "_________________________________________________________________\n"
          ]
        }
      ]
    },
    {
      "cell_type": "markdown",
      "metadata": {
        "id": "uQ92EA7pdG8B"
      },
      "source": [
        "## 🧐 5. Валидация качества модели на тестовых данных.\n",
        "\n",
        "Выводится loss и точность."
      ]
    },
    {
      "cell_type": "code",
      "metadata": {
        "colab": {
          "base_uri": "https://localhost:8080/"
        },
        "id": "So0AMrOtL1Xd",
        "scrolled": true,
        "outputId": "fde3c7b8-14c7-480e-d2f7-9e129fca41de"
      },
      "source": [
        "test_loss, test_accuracy = model.evaluate(X_test, y_test)\n",
        "trainable_params = int(\n",
        "    sum([keras.backend.count_params(w) for w in model.trainable_weights])\n",
        ")"
      ],
      "execution_count": null,
      "outputs": [
        {
          "output_type": "stream",
          "name": "stdout",
          "text": [
            "313/313 [==============================] - 1s 2ms/step - loss: 0.2060 - accuracy: 0.9405\n"
          ]
        }
      ]
    },
    {
      "cell_type": "code",
      "source": [
        "print(f\"🤖 Количество обучаемых параметров в модели {trainable_params}\")\n",
        "print(f\"🤖 Точность предсказаний на тестовой выборке {test_accuracy:.3f}\")\n",
        "print(f\"🤖 Значение функции потерь на тестовой выборке {test_loss:.3f}\")"
      ],
      "metadata": {
        "colab": {
          "base_uri": "https://localhost:8080/"
        },
        "id": "gOBIIJPHodyi",
        "outputId": "f755b0ef-36c1-4319-d0e1-fe2a2da3d92c"
      },
      "execution_count": null,
      "outputs": [
        {
          "output_type": "stream",
          "name": "stdout",
          "text": [
            "🤖 Количество обучаемых параметров в модели 12730\n",
            "🤖 Точность предсказаний на тестовой выборке 0.941\n",
            "🤖 Значение функции потерь на тестовой выборке 0.206\n"
          ]
        }
      ]
    },
    {
      "cell_type": "code",
      "metadata": {
        "colab": {
          "base_uri": "https://localhost:8080/",
          "height": 917
        },
        "id": "1a1K3_GlSsaq",
        "outputId": "42844196-fe2b-406c-cbfd-7093b9ac7f99"
      },
      "source": [
        "show_examples(X_test, y_test, model(X_test))"
      ],
      "execution_count": null,
      "outputs": [
        {
          "output_type": "display_data",
          "data": {
            "text/plain": [
              "<Figure size 1500x1500 with 25 Axes>"
            ],
            "image/png": "[encoded data removed]"
          },
          "metadata": {}
        }
      ]
    },
    {
      "cell_type": "markdown",
      "source": [
        "## 💎 УПРАЖНЕНИЕ\n",
        "\n",
        "Попробуйте изменить любые параметры ниже, чтобы качество предсказаний на тестовой выборке стало не менее 97%. Победит тот, кто сделает это с наименьшим числом параметров модели."
      ],
      "metadata": {
        "id": "u0Mr-oSIpQ6j"
      }
    },
    {
      "cell_type": "code",
      "source": [
        "# Попробуйте изменить параметры ниже на свой вкус\n",
        "\n",
        "ЧИСЛО_НЕЙРОНОВ_В_ПЕРВОМ_СЛОЕ = 16\n",
        "ФУНКЦИЯ_АКТИВАЦИИ = \"relu\" # \"selu\", \"elu\", \"softmax\", \"sigmoid\", \"relu\", ...\n",
        "ОПТИМИЗАТОР = \"adam\" # \"adam\", \"nadam\", \"rmsprop\", \"sgd\"...\n",
        "ЧИСЛО_ЭПОХ = 5\n",
        "РАЗМЕР_БАТЧА = 128\n",
        "\n",
        "model = Sequential()\n",
        "\n",
        "model.add(Flatten())\n",
        "model.add(Dense(units=ЧИСЛО_НЕЙРОНОВ_В_ПЕРВОМ_СЛОЕ, activation=ФУНКЦИЯ_АКТИВАЦИИ))\n",
        "model.add(Dense(units=10, activation=\"softmax\"))\n",
        "\n",
        "model.compile(loss='categorical_crossentropy',\n",
        "              optimizer=ОПТИМИЗАТОР,\n",
        "              metrics=['accuracy'])\n",
        "\n",
        "model.fit(X_train, y_train, epochs=ЧИСЛО_ЭПОХ, batch_size=РАЗМЕР_БАТЧА)\n",
        "\n",
        "test_loss, test_accuracy = model.evaluate(X_test, y_test)\n",
        "trainable_params = int(\n",
        "    sum([keras.backend.count_params(w) for w in model.trainable_weights])\n",
        ")\n",
        "\n",
        "print(f\"🤖 Количество обучаемых параметров в модели {trainable_params}\")\n",
        "print(f\"🤖 Точность предсказаний на тестовой выборке {test_accuracy:.3f}\")\n",
        "print(f\"🤖 Значение функции потерь на тестовой выборке {test_loss:.3f}\")"
      ],
      "metadata": {
        "colab": {
          "base_uri": "https://localhost:8080/"
        },
        "id": "E10HdJ8mpUtK",
        "outputId": "bdf70062-99f4-48a7-8e0e-cf53db09d0d4"
      },
      "execution_count": null,
      "outputs": [
        {
          "output_type": "stream",
          "name": "stdout",
          "text": [
            "Epoch 1/5\n",
            "469/469 [==============================] - 2s 3ms/step - loss: 0.6079 - accuracy: 0.8352\n",
            "Epoch 2/5\n",
            "469/469 [==============================] - 1s 3ms/step - loss: 0.2981 - accuracy: 0.9153\n",
            "Epoch 3/5\n",
            "469/469 [==============================] - 1s 3ms/step - loss: 0.2618 - accuracy: 0.9251\n",
            "Epoch 4/5\n",
            "469/469 [==============================] - 2s 4ms/step - loss: 0.2376 - accuracy: 0.9320\n",
            "Epoch 5/5\n",
            "469/469 [==============================] - 1s 3ms/step - loss: 0.2196 - accuracy: 0.9366\n",
            "313/313 [==============================] - 1s 2ms/step - loss: 0.2184 - accuracy: 0.9370\n",
            "🤖 Количество обучаемых параметров в модели 12730\n",
            "🤖 Точность предсказаний на тестовой выборке 0.937\n",
            "🤖 Значение функции потерь на тестовой выборке 0.218\n"
          ]
        }
      ]
    },
    {
      "cell_type": "markdown",
      "metadata": {
        "id": "6CFF3-RLhGH4"
      },
      "source": [
        "## 📈 ЭКСТРА: Улучшение модели (попробуем добавить сверточный слой)\n",
        "\n",
        "Добавим явно число каналов в наш датасет - это важно для сверточных слоев.\n",
        "т.е. делается преобразование (60000, 28, 28) -> (60000, 28, 28, 1). Это ничего не изменяет в данных."
      ]
    },
    {
      "cell_type": "code",
      "metadata": {
        "colab": {
          "base_uri": "https://localhost:8080/"
        },
        "id": "J6gkFZuMhL_f",
        "outputId": "ca0e75b1-ddd6-4934-dcef-155f6b384d53"
      },
      "source": [
        "X_train, X_test = X_train.reshape((60000, 28, 28, 1)), X_test.reshape((10000, 28, 28, 1))\n",
        "input_size = X_train[0].shape\n",
        "print(f\"🤖 Теперь размер первого изображения {input_size}\")\n",
        "print(f\"🤖 Ширина {input_size[0]}, Длина {input_size[1]}, Число каналов (цветов) {input_size[2]}\")"
      ],
      "execution_count": null,
      "outputs": [
        {
          "output_type": "stream",
          "name": "stdout",
          "text": [
            "🤖 Теперь размер первого изображения (28, 28, 1)\n",
            "🤖 Ширина 28, Длина 28, Число каналов (цветов) 1\n"
          ]
        }
      ]
    },
    {
      "cell_type": "markdown",
      "metadata": {
        "id": "JB8OqlSHhQYd"
      },
      "source": [
        "Мы используем новый тип преобразвания в слое - сверточный Conv2D"
      ]
    },
    {
      "cell_type": "code",
      "metadata": {
        "id": "JZyg7D08L1Xg"
      },
      "source": [
        "from keras.layers import Conv2D, MaxPooling2D"
      ],
      "execution_count": null,
      "outputs": []
    },
    {
      "cell_type": "markdown",
      "metadata": {
        "id": "0jWP1X9Vh76x"
      },
      "source": [
        "Создание модели. Sequential здесь означает последовательный тип модели, в который мы добавляем слои друг за другом"
      ]
    },
    {
      "cell_type": "markdown",
      "metadata": {
        "id": "XqXj7PlliB23"
      },
      "source": [
        "Здесь мы используем сверточный слой, который тренирует 32 фильтра размером 3x3 для поиска\n",
        " конкретных геометрических (настраиваемых в процессе обучения) паттернов на входном изображении.\n"
      ]
    },
    {
      "cell_type": "code",
      "metadata": {
        "id": "8v4Fbs5Shr79"
      },
      "source": [
        "conv_model = Sequential()\n",
        "\n",
        "conv_model.add(Conv2D(32, (3, 3), activation=\"relu\"))\n",
        "conv_model.add(Conv2D(64, (3, 3), activation=\"relu\"))\n",
        "conv_model.add(Flatten())\n",
        "conv_model.add(Dense(10, activation='softmax'))"
      ],
      "execution_count": null,
      "outputs": []
    },
    {
      "cell_type": "markdown",
      "metadata": {
        "id": "BEfkQmx8iRUH"
      },
      "source": [
        "После описания архитектуры необходимо скомпилировать модель, указав минимизируемую функцию потерь,\n",
        "оптимизатор и попросив модель выводить точность работы на тестовой выорке в процессе обучения\n"
      ]
    },
    {
      "cell_type": "code",
      "metadata": {
        "id": "QzkuwxBuiOzS"
      },
      "source": [
        "conv_model.compile(loss='categorical_crossentropy',\n",
        "              optimizer='adam',\n",
        "              metrics=['accuracy'])"
      ],
      "execution_count": null,
      "outputs": []
    },
    {
      "cell_type": "markdown",
      "metadata": {
        "id": "S4mM0LJphwui"
      },
      "source": [
        "Тренировка с указанием данных, числа эпох и размера подвыборки"
      ]
    },
    {
      "cell_type": "code",
      "metadata": {
        "colab": {
          "base_uri": "https://localhost:8080/"
        },
        "id": "n3f0J-COhuc6",
        "outputId": "30707b0a-45ab-4a8a-c8c2-2e7c84741ea0"
      },
      "source": [
        "conv_model.fit(X_train, y_train, epochs=5, batch_size=128)"
      ],
      "execution_count": null,
      "outputs": [
        {
          "output_type": "stream",
          "name": "stdout",
          "text": [
            "Epoch 1/5\n",
            "1875/1875 [==============================] - 9s 4ms/step - loss: 0.1173 - accuracy: 0.9652\n",
            "Epoch 2/5\n",
            "1875/1875 [==============================] - 7s 4ms/step - loss: 0.0442 - accuracy: 0.9862\n",
            "Epoch 3/5\n",
            "1875/1875 [==============================] - 6s 3ms/step - loss: 0.0280 - accuracy: 0.9914\n",
            "Epoch 4/5\n",
            "1875/1875 [==============================] - 8s 4ms/step - loss: 0.0181 - accuracy: 0.9942\n",
            "Epoch 5/5\n",
            "1875/1875 [==============================] - 6s 3ms/step - loss: 0.0124 - accuracy: 0.9957\n"
          ]
        },
        {
          "output_type": "execute_result",
          "data": {
            "text/plain": [
              "<keras.callbacks.History at 0x7f71b16925f0>"
            ]
          },
          "metadata": {},
          "execution_count": 162
        }
      ]
    },
    {
      "cell_type": "code",
      "metadata": {
        "colab": {
          "base_uri": "https://localhost:8080/"
        },
        "id": "Bhfoz8W2L1Xi",
        "outputId": "af834897-476c-4a7d-8fba-cdfc27a4dcb4"
      },
      "source": [
        "conv_model.summary()"
      ],
      "execution_count": null,
      "outputs": [
        {
          "output_type": "stream",
          "name": "stdout",
          "text": [
            "Model: \"sequential_34\"\n",
            "_________________________________________________________________\n",
            " Layer (type)                Output Shape              Param #   \n",
            "=================================================================\n",
            " conv2d_16 (Conv2D)          (32, 26, 26, 32)          320       \n",
            "                                                                 \n",
            " conv2d_17 (Conv2D)          (32, 24, 24, 64)          18496     \n",
            "                                                                 \n",
            " flatten_35 (Flatten)        (32, 36864)               0         \n",
            "                                                                 \n",
            " dense_71 (Dense)            (32, 10)                  368650    \n",
            "                                                                 \n",
            "=================================================================\n",
            "Total params: 387,466\n",
            "Trainable params: 387,466\n",
            "Non-trainable params: 0\n",
            "_________________________________________________________________\n"
          ]
        }
      ]
    },
    {
      "cell_type": "markdown",
      "metadata": {
        "id": "NzMjjDbzil3b"
      },
      "source": [
        "Проверим качество работы модели на тестовых данных. Выводится loss и точночть."
      ]
    },
    {
      "cell_type": "code",
      "metadata": {
        "colab": {
          "base_uri": "https://localhost:8080/"
        },
        "id": "M5AnjO2JL1Xj",
        "outputId": "d1058d77-1c67-4e4b-9fc3-30d6b8df76bb"
      },
      "source": [
        "test_loss, test_accuracy = conv_model.evaluate(X_test, y_test)\n",
        "trainable_params = int(\n",
        "    sum([keras.backend.count_params(w) for w in conv_model.trainable_weights])\n",
        ")"
      ],
      "execution_count": null,
      "outputs": [
        {
          "output_type": "stream",
          "name": "stdout",
          "text": [
            "313/313 [==============================] - 1s 3ms/step - loss: 0.0493 - accuracy: 0.9876\n"
          ]
        }
      ]
    },
    {
      "cell_type": "code",
      "source": [
        "print(f\"🤖 Количество обучаемых параметров в модели {trainable_params}\")\n",
        "print(f\"🤖 Точность предсказаний на тестовой выборке {test_accuracy:.3f}\")\n",
        "print(f\"🤖 Значение функции потерь на тестовой выборке {test_loss:.3f}\")"
      ],
      "metadata": {
        "colab": {
          "base_uri": "https://localhost:8080/"
        },
        "id": "Yw1WoqT7tXrJ",
        "outputId": "0f9fae4b-383c-4e99-dd0e-00301990f1c7"
      },
      "execution_count": null,
      "outputs": [
        {
          "output_type": "stream",
          "name": "stdout",
          "text": [
            "🤖 Количество обучаемых параметров в модели 387466\n",
            "🤖 Точность предсказаний на тестовой выборке 0.988\n",
            "🤖 Значение функции потерь на тестовой выборке 0.049\n"
          ]
        }
      ]
    },
    {
      "cell_type": "markdown",
      "metadata": {
        "id": "Adw7q_lPL1Xl"
      },
      "source": [
        "## 🤕 ЭКСТРА: Сверточные слои, dropout\n",
        "\n",
        "Генерируются и обучаются несколько фильтров небольших размеров так, чтобы распознавать какие то характерные сочетания пикселей (паттерны). Ниже на картинке изображение 5x5 пикселей, фильтр имеет размеры 3x3. При этом на выходе такой операции имеем картинку такого же размера, в каждый из пикселей которого записан результат свертки (число) данного фильтра с картинкой при нахождении центра фильтра в этом пикселе. Для этого исходную картинку необходимо дополнить по краям. Обычно это делают либо нулями, либо дублируют ближайшие пиксели (padding)\n",
        "\n",
        "![](https://raw.githubusercontent.com/MerkulovDaniil/TensorFlow_and_Keras_crash_course/master/rus/2_Deep%20Learning%20and%20Keras/convol.gif)\n",
        "\n",
        "Чем глубже сверточный слой, тем более сложные паттерны он способен распознавать:\n",
        "\n",
        "![](https://raw.githubusercontent.com/MerkulovDaniil/TensorFlow_and_Keras_crash_course/master/rus/2_Deep%20Learning%20and%20Keras/features.png)\n",
        "\n",
        "Dropout - техника спасения нейросетей от переобучения, при которой в процессе тренировки случайно \"выключаются\" некоторые нейроны из моделей.\n",
        "\n",
        "Альтернативный взгляд - вместо тренировки одной большой сети проходит одновременная тренировка нескольких подсетей меньшего размера, результаты которых потом усредняются (в каком то смысле, сглаживаются).\n",
        "\n",
        "![](https://github.com/MerkulovDaniil/TensorFlow_and_Keras_crash_course/blob/master/rus/2_Deep%20Learning%20and%20Keras/dropout.gif?raw=true)\n",
        "\n",
        "Давайте попробуем посмотреть, как написать сеть, состоящую из нескольких сверточных слоев на `keras`"
      ]
    },
    {
      "cell_type": "code",
      "metadata": {
        "colab": {
          "base_uri": "https://localhost:8080/"
        },
        "id": "QmYolMLDL1Xm",
        "outputId": "d6af7c83-d4c8-46c2-91f2-84743d06595c"
      },
      "source": [
        "from keras.layers import Conv2D, MaxPooling2D, Dropout\n",
        "# Попробуйте изменить параметры ниже на свой вкус\n",
        "\n",
        "ЧИСЛО_ФИЛЬТРОВ_В_ПЕРВОМ_СЛОЕ = 32\n",
        "ЧИСЛО_ФИЛЬТРОВ_ВО_ВТОРОМ_СЛОЕ = 64\n",
        "ВЕРОЯТНОСТЬ_ЗАНУЛЕНИЯ_ДРОПАУТА = 0.1\n",
        "ФУНКЦИЯ_АКТИВАЦИИ = \"relu\" # \"selu\", \"elu\", \"softmax\", \"sigmoid\", \"relu\", ...\n",
        "ОПТИМИЗАТОР = \"adam\" # \"adam\", \"nadam\", \"rmsprop\", \"sgd\"...\n",
        "ЧИСЛО_ЭПОХ = 5\n",
        "РАЗМЕР_БАТЧА = 128\n",
        "\n",
        "model = Sequential()\n",
        "\n",
        "model.add(Conv2D(ЧИСЛО_ФИЛЬТРОВ_В_ПЕРВОМ_СЛОЕ, (3, 3),\n",
        "                 activation=ФУНКЦИЯ_АКТИВАЦИИ))\n",
        "model.add(MaxPooling2D(pool_size=(2, 2)))\n",
        "model.add(Dropout(ВЕРОЯТНОСТЬ_ЗАНУЛЕНИЯ_ДРОПАУТА))\n",
        "model.add(Conv2D(ЧИСЛО_ФИЛЬТРОВ_ВО_ВТОРОМ_СЛОЕ, (3, 3),\n",
        "                 activation=ФУНКЦИЯ_АКТИВАЦИИ))\n",
        "model.add(MaxPooling2D(pool_size=(2, 2)))\n",
        "model.add(Dropout(ВЕРОЯТНОСТЬ_ЗАНУЛЕНИЯ_ДРОПАУТА))\n",
        "model.add(Flatten())\n",
        "model.add(Dense(units=10, activation=\"softmax\"))\n",
        "\n",
        "model.compile(loss='categorical_crossentropy',\n",
        "              optimizer=ОПТИМИЗАТОР,\n",
        "              metrics=['accuracy'])\n",
        "\n",
        "history = model.fit(X_train, y_train, epochs=ЧИСЛО_ЭПОХ, batch_size=РАЗМЕР_БАТЧА)\n",
        "\n",
        "test_loss, test_accuracy = model.evaluate(X_test, y_test)\n",
        "trainable_params = int(\n",
        "    sum([keras.backend.count_params(w) for w in model.trainable_weights])\n",
        ")\n",
        "\n",
        "print(f\"🤖 Количество обучаемых параметров в модели {trainable_params}\")\n",
        "print(f\"🤖 Точность предсказаний на тестовой выборке {test_accuracy:.3f}\")\n",
        "print(f\"🤖 Значение функции потерь на тестовой выборке {test_loss:.3f}\")"
      ],
      "execution_count": null,
      "outputs": [
        {
          "output_type": "stream",
          "name": "stdout",
          "text": [
            "Epoch 1/5\n",
            "469/469 [==============================] - 4s 5ms/step - loss: 0.2898 - accuracy: 0.9150\n",
            "Epoch 2/5\n",
            "469/469 [==============================] - 2s 5ms/step - loss: 0.0854 - accuracy: 0.9744\n",
            "Epoch 3/5\n",
            "469/469 [==============================] - 3s 5ms/step - loss: 0.0622 - accuracy: 0.9811\n",
            "Epoch 4/5\n",
            "469/469 [==============================] - 2s 5ms/step - loss: 0.0524 - accuracy: 0.9836\n",
            "Epoch 5/5\n",
            "469/469 [==============================] - 2s 5ms/step - loss: 0.0434 - accuracy: 0.9863\n",
            "313/313 [==============================] - 1s 3ms/step - loss: 0.0370 - accuracy: 0.9880\n",
            "🤖 Количество обучаемых параметров в модели 34826\n",
            "🤖 Точность предсказаний на тестовой выборке 0.988\n",
            "🤖 Значение функции потерь на тестовой выборке 0.037\n"
          ]
        }
      ]
    },
    {
      "cell_type": "code",
      "metadata": {
        "colab": {
          "base_uri": "https://localhost:8080/",
          "height": 470
        },
        "id": "RW1V8_Qtdnf-",
        "outputId": "f7464748-6539-449f-df9d-2c02a954e249"
      },
      "source": [
        "plt.plot(list(range(1, ЧИСЛО_ЭПОХ+1)), history.history['accuracy'])\n",
        "plt.xlabel(\"Эпохи\")\n",
        "plt.ylabel(\"Точность на обучающей выборке\")\n",
        "plt.grid(linestyle=\"--\")\n",
        "plt.show()"
      ],
      "execution_count": null,
      "outputs": [
        {
          "output_type": "display_data",
          "data": {
            "text/plain": [
              "<Figure size 640x480 with 1 Axes>"
            ],
            "image/png": "[encoded data removed]"
          },
          "metadata": {}
        }
      ]
    },
    {
      "cell_type": "markdown",
      "metadata": {
        "id": "lYEE-A2TL1X5"
      },
      "source": [
        "## 📚 Ссылки\n",
        "\n",
        "* [Ещё практикумы по нейронным сетям](https://colab.research.google.com/github/MerkulovDaniil/sber219/blob/main/notebooks/10_1.ipynb)\n",
        "* [TensorFlow sandbox](https://playground.tensorflow.org)\n",
        "* [Запуск TensorFlow на GPU](http://learningtensorflow.com/lesson10/)\n",
        "* [Визуализация модели](https://www.codesofinterest.com/2017/05/visualizing-keras-models-updated.html)\n",
        "* [Официальная документация](https://keras.io/) - библиотека отлично документирована\n",
        "* [Keras в конкретных примерах](https://github.com/tmheo/keras_exercise) - 25 отличных jupyter notebooks\n",
        "* [Упражнения и примеры в Keras и TensorFlow](https://github.com/leriomaggio/deep-learning-keras-tensorflow)"
      ]
    },
    {
      "cell_type": "code",
      "source": [],
      "metadata": {
        "id": "0zj9_SPpzGuI"
      },
      "execution_count": null,
      "outputs": []
    }
  ]
}