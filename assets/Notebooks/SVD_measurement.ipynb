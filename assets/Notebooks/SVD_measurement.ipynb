{
 "cells": [
  {
   "cell_type": "code",
   "execution_count": null,
   "metadata": {},
   "outputs": [],
   "source": [
    "import jax.numpy as jnp\n",
    "from jax import random, jit\n",
    "RNG = random.PRNGKey(0)\n",
    "\n",
    "# Define the function to compute the SVD, jitted for performance\n",
    "@jit\n",
    "def compute_svd(matrix):\n",
    "    return jnp.linalg.svd(matrix)\n",
    "\n",
    "# Sizes for the square matrices\n",
    "sizes = [10, 100, 1000, 5000, 10000]\n",
    "\n",
    "# For each size, generate a random matrix and compute its SVD using timeit\n",
    "for n in sizes:\n",
    "    matrix = random.normal(RNG, (n, n))\n",
    "\n",
    "    # Use the magic command %%timeit in your Jupyter notebook to measure the time\n",
    "    # For memory usage, you might need to use specific profiling tools like memory_profiler\n",
    "    print(f\"Timing for matrix size: {n}\")\n",
    "    %timeit -r 3 compute_svd(matrix)"
   ]
  }
 ],
 "metadata": {
  "kernelspec": {
   "display_name": "benchmarx",
   "language": "python",
   "name": "python3"
  },
  "language_info": {
   "codemirror_mode": {
    "name": "ipython",
    "version": 3
   },
   "file_extension": ".py",
   "mimetype": "text/x-python",
   "name": "python",
   "nbconvert_exporter": "python",
   "pygments_lexer": "ipython3",
   "version": "3.9.17"
  }
 },
 "nbformat": 4,
 "nbformat_minor": 2
}
