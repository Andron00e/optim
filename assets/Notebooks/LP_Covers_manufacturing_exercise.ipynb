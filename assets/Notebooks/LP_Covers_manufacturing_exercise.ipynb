{
  "nbformat": 4,
  "nbformat_minor": 0,
  "metadata": {
    "colab": {
      "name": "LP: Covers manufacturing.ipynb",
      "provenance": []
    },
    "kernelspec": {
      "name": "python3",
      "display_name": "Python 3"
    },
    "language_info": {
      "name": "python"
    }
  },
  "cells": [
    {
      "cell_type": "markdown",
      "metadata": {
        "id": "WQZXrP32zpnT"
      },
      "source": [
        "#📱🎧💻 Covers manufacturing.\n",
        "\n",
        "Random Corp is producing covers for following products:\n",
        "\n",
        "* 📱 phones\n",
        "* 🎧 headphones\n",
        "* 💻 laptops\n",
        "\n",
        "The company’s production facilities are such that if we devote the entire production to headphones covers, we can produce 5000 of them in one day. If we devote the entire production to phone covers or laptop covers, we can produce 4000 or 2000 of them in one day. \n",
        "\n",
        "The production schedule is one week (6 working days), and the week’s production must be stored before distribution. Storing 1000 headphones covers (packaging included) takes up 30 cubic feet of space. Storing 1000 phone covers (packaging included) takes up 50 cubic feet of space, and storing 1000 laptop covers (packaging included) takes up 220 cubic feet of space. The total storage space available is 1500 cubic feet. \n",
        "\n",
        "\n",
        "Due to commercial agreements with Random Corp has to deliver at least 4500 headphones covers and 3000 laptop covers per week in order to strengthen the product’s diffusion. \n",
        "\n",
        "The marketing department estimates that the weekly demand for headphones covers, phone, and laptop covers does not exceed 9000 and 14000, and 7000 units, therefore the company does not want to produce more than these amounts for headphones, phone, and laptop covers. \n",
        "\n",
        "Finally, the net profit per each headphones cover, phone cover, and laptop cover is 5 USD, 7 USD, and 12 USD, respectively.\n",
        "\n",
        "The aim is to determine a weekly production schedule that maximizes the total net profit.\n",
        "\n",
        "1. Write a Linear Programming formulation for the problem.\tUse following variables:\n",
        "\n",
        "  * $y_1$ = number of headphones covers produced over the week,  \n",
        "  * $y_2$ = number of phone covers produced over the week,  \n",
        "  * $y_3$ = number of laptop covers produced over the week. "
      ]
    },
    {
      "cell_type": "markdown",
      "metadata": {
        "id": "R-xSApEn0VXb"
      },
      "source": [
        "<font color=\"lime\"> ==YOUR ANSWER== </font>"
      ]
    },
    {
      "cell_type": "markdown",
      "source": [
        "2. Find the solution to the problem using [PyOMO](http://www.pyomo.org)"
      ],
      "metadata": {
        "id": "5jylMJRsBGus"
      }
    },
    {
      "cell_type": "code",
      "metadata": {
        "id": "vfQsGLGyOAM9"
      },
      "source": [
        "!pip install pyomo\n",
        "! sudo apt-get install glpk-utils --quiet  # GLPK\n",
        "! sudo apt-get install coinor-cbc --quiet  # CoinOR"
      ],
      "execution_count": null,
      "outputs": []
    },
    {
      "cell_type": "code",
      "metadata": {
        "id": "YrzhBke_kjbk"
      },
      "source": [
        "### YOUR CODE"
      ],
      "execution_count": null,
      "outputs": []
    }
  ]
}