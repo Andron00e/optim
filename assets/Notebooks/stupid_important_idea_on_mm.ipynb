{
 "cells": [
  {
   "cell_type": "code",
   "execution_count": 5,
   "metadata": {},
   "outputs": [
    {
     "name": "stdout",
     "output_type": "stream",
     "text": [
      "1.47 ms ± 235 µs per loop (mean ± std. dev. of 7 runs, 1,000 loops each)\n",
      "50.3 µs ± 6.14 µs per loop (mean ± std. dev. of 7 runs, 10,000 loops each)\n"
     ]
    }
   ],
   "source": [
    "import numpy as np\n",
    "\n",
    "# Function to create a random square matrix of size n\n",
    "def create_random_matrix(n):\n",
    "    return np.random.rand(n, n)\n",
    "\n",
    "# Define the size of the matrices\n",
    "n = 200\n",
    "\n",
    "# Create a list of 3 random matrices\n",
    "matrices = [create_random_matrix(n) for _ in range(3)]\n",
    "y = np.random.rand(n, 1)  # y is a vector\n",
    "\n",
    "# Function to compute the expression in a given order\n",
    "def compute_expression(matrices, y, reverse=False):\n",
    "    result = y\n",
    "    if reverse:\n",
    "        # Start with y and multiply with each matrix from right to left\n",
    "        for matrix in reversed(matrices):\n",
    "            result = matrix @ result\n",
    "    else:\n",
    "        # Start with the first matrix and multiply each next matrix from left to right\n",
    "        result = matrices[0]\n",
    "        for matrix in matrices[1:]:\n",
    "            result = result @ matrix\n",
    "        # Finally multiply with y\n",
    "        result = result @ y\n",
    "    return result\n",
    "\n",
    "# Time the expression from left to right\n",
    "print(\"💎 From left to right\")\n",
    "%timeit compute_expression(matrices, y)\n",
    "\n",
    "# Time the expression from right to left\n",
    "print(\"💎 From right to left\")\n",
    "%timeit compute_expression(matrices, y, reverse=True)"
   ]
  }
 ],
 "metadata": {
  "kernelspec": {
   "display_name": "Python 3",
   "language": "python",
   "name": "python3"
  },
  "language_info": {
   "codemirror_mode": {
    "name": "ipython",
    "version": 3
   },
   "file_extension": ".py",
   "mimetype": "text/x-python",
   "name": "python",
   "nbconvert_exporter": "python",
   "pygments_lexer": "ipython3",
   "version": "3.11.4"
  }
 },
 "nbformat": 4,
 "nbformat_minor": 2
}
