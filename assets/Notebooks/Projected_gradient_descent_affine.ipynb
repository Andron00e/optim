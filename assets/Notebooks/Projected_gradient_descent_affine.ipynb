{
  "nbformat": 4,
  "nbformat_minor": 0,
  "metadata": {
    "colab": {
      "provenance": [],
      "authorship_tag": "ABX9TyOT+/xJFeURhSzHA6o8HYiN",
      "include_colab_link": true
    },
    "kernelspec": {
      "name": "python3",
      "display_name": "Python 3"
    },
    "language_info": {
      "name": "python"
    }
  },
  "cells": [
    {
      "cell_type": "markdown",
      "metadata": {
        "id": "view-in-github",
        "colab_type": "text"
      },
      "source": [
        "<a href=\"https://colab.research.google.com/github/MerkulovDaniil/optim/blob/master/assets/Notebooks/Projected_gradient_descent_affine.ipynb\" target=\"_parent\"><img src=\"https://colab.research.google.com/assets/colab-badge.svg\" alt=\"Open In Colab\"/></a>"
      ]
    },
    {
      "cell_type": "markdown",
      "metadata": {
        "id": "UomW2-c7Jt9F"
      },
      "source": [
        "# Projected gradient descent\n",
        "\n",
        "Find projection on the $S$ set $\\pi_S (y) = \\pi$ if: \n",
        "\n",
        "$$\n",
        "S = \\{x \\in \\mathbb{R}^n \\mid Ax = b, A \\in \\mathbb{R}^{m \\times n}, b \\in \\mathbb{R}^{m}\\}, y \\notin S\n",
        "$$\n",
        "\n",
        "Hint: Check [fmin.xyz](https://fmin.xyz) "
      ]
    },
    {
      "cell_type": "markdown",
      "metadata": {
        "id": "3NFF15XRpmPa"
      },
      "source": [
        "<font color=\"lime\"> ==YOUR ANSWER== </font>"
      ]
    },
    {
      "cell_type": "markdown",
      "metadata": {
        "id": "b77tRayUkt8F"
      },
      "source": [
        "For following problem:\n",
        "\n",
        "$$\n",
        "\\left\\{ \\begin{array}{l} \n",
        "\\displaystyle \\big\\lVert Ax - b \\big\\rVert_2^2 \\longrightarrow \\min_{x \\in \\mathbb{R}^n}, \\\\\\\\[-1em]\n",
        "Cx = d.\n",
        "\\end{array} \\right. \\ \\ \\begin{array}{l}\n",
        "A \\in \\mathbb{R}^{m \\times n}, \\ m \\geq n, \\ \\text{rg}\\, A = n \\\\\n",
        "C \\in \\mathbb{R}^{k \\times n}, \\ k \\leq n, \\ \\text{rg}\\, C = k\n",
        "\\end{array} \\ b \\in \\mathbb{R}^m, \\ d \\in \\mathbb{R}^k\n",
        "$$\n",
        "\n",
        "* Write KKT conditions;\n",
        "* Find $x^\\ast$ - solution;"
      ]
    },
    {
      "cell_type": "markdown",
      "metadata": {
        "id": "PFQKwD04oXp-"
      },
      "source": [
        "<font color=\"lime\"> ==YOUR ANSWER== </font>"
      ]
    },
    {
      "cell_type": "markdown",
      "metadata": {
        "id": "OeCH6n1Guv7X"
      },
      "source": [
        "Implement projected gradient descent for following task.\n",
        "\n",
        "$$\n",
        "\\left\\{ \\begin{array}{l} \n",
        "\\displaystyle \\big\\lVert Ax - b \\big\\rVert_2^2 \\longrightarrow \\min_{x \\in \\mathbb{R}^n}, \\\\\\\\[-1em]\n",
        "Cx = d.\n",
        "\\end{array} \\right. \\ \\ \\begin{array}{l}\n",
        "A \\in \\mathbb{R}^{m \\times n}, \\ m \\geq n, \\ \\text{rg}\\, A = n \\\\\n",
        "C \\in \\mathbb{R}^{k \\times n}, \\ k \\leq n, \\ \\text{rg}\\, C = k\n",
        "\\end{array} \\ b \\in \\mathbb{R}^m, \\ d \\in \\mathbb{R}^k\n",
        "$$\n",
        "\n",
        "Compare with analytical solution and `scipy.optimize`"
      ]
    },
    {
      "cell_type": "code",
      "metadata": {
        "id": "yIPKrG0AwB9m"
      },
      "source": [
        "import numpy as np"
      ],
      "execution_count": null,
      "outputs": []
    },
    {
      "cell_type": "code",
      "metadata": {
        "id": "IxHgS6NdxHQi"
      },
      "source": [
        "np.random.seed(1)\n",
        "\n",
        "A = np.random.randn(100, 20)\n",
        "b = np.random.randn(100)\n",
        "\n",
        "C = np.random.randn(10, 20)\n",
        "d = np.random.randn(10)"
      ],
      "execution_count": null,
      "outputs": []
    },
    {
      "cell_type": "code",
      "metadata": {
        "id": "PwSPGzdC350K"
      },
      "source": [
        "def f(x):\n",
        "    ### YOUR CODE\n",
        "    return "
      ],
      "execution_count": null,
      "outputs": []
    },
    {
      "cell_type": "code",
      "metadata": {
        "id": "nnyd-DZI3DvX"
      },
      "source": [
        "def proj(C, d, x):\n",
        "    ### YOUR CODE\n",
        "    return "
      ],
      "execution_count": null,
      "outputs": []
    },
    {
      "cell_type": "code",
      "metadata": {
        "id": "kCguKWCk8ext"
      },
      "source": [
        "x = np.zeros(20)\n",
        "### Projected gradient descent\n",
        "..."
      ],
      "execution_count": null,
      "outputs": []
    },
    {
      "cell_type": "markdown",
      "metadata": {
        "id": "SfgRpCqo8nQH"
      },
      "source": [
        "Comparison with `scipy.optimize`"
      ]
    },
    {
      "cell_type": "code",
      "metadata": {
        "id": "OQ0oTmdz4m3j"
      },
      "source": [
        "### YOUR CODE"
      ],
      "execution_count": null,
      "outputs": []
    },
    {
      "cell_type": "markdown",
      "metadata": {
        "id": "5NtrnIY48sLZ"
      },
      "source": [
        "Comparison with analytical solution"
      ]
    },
    {
      "cell_type": "code",
      "metadata": {
        "id": "vwZFToDI88KE"
      },
      "source": [
        "### YOUR CODE"
      ],
      "execution_count": null,
      "outputs": []
    }
  ]
}