{
  "cells": [
    {
      "cell_type": "markdown",
      "metadata": {
        "id": "jilBh_x1aO31"
      },
      "source": [
        "# Matrix calculus exercises"
      ]
    },
    {
      "cell_type": "markdown",
      "metadata": {
        "id": "yj2jRY3xdGpS"
      },
      "source": [
        "## 1.\n",
        "\n",
        "Find the hessian of\n",
        "$$\n",
        "f(x) = \\dfrac{1}{2}x^TAx + b^Tx + c\n",
        "$$"
      ]
    },
    {
      "cell_type": "markdown",
      "metadata": {
        "id": "30SAINmfdZvE"
      },
      "source": []
    },
    {
      "cell_type": "markdown",
      "metadata": {
        "id": "V1N3YgssbVeb"
      },
      "source": [
        "##  2.\n",
        "\n",
        "Calculate $df(x)$ and $\\nabla f(x)$ for the function \n",
        "$$\n",
        "f(x) = \\log(x^{\\top}Ax).\n",
        "$$"
      ]
    },
    {
      "cell_type": "markdown",
      "metadata": {
        "id": "b7nH7xOUdGTx"
      },
      "source": []
    },
    {
      "cell_type": "markdown",
      "metadata": {
        "id": "0VzefRKkdaHD"
      },
      "source": [
        "## 3.\n",
        "\n",
        "Find the gradient of\n",
        "$$\n",
        "f(X) = tr(AXB)\n",
        "$$"
      ]
    },
    {
      "cell_type": "markdown",
      "metadata": {
        "id": "_EUnnD3Admzl"
      },
      "source": []
    },
    {
      "cell_type": "markdown",
      "metadata": {},
      "source": [
        "## 4. \n",
        "\n",
        "Find the hessian of\n",
        "$$\n",
        "f(x) = \\dfrac{1}{2} \\|Ax - b\\|^2_2\n",
        "$$"
      ]
    },
    {
      "cell_type": "markdown",
      "metadata": {},
      "source": []
    },
    {
      "cell_type": "markdown",
      "metadata": {},
      "source": [
        "##  5.\n",
        "\n",
        "Find the gradient $\\nabla f(x)$ and hessian $f''(x)$, if \n",
        "$$ \n",
        "f(x) = \\ln \\left( 1 + \\exp\\langle a,x\\rangle\\right) \n",
        "$$"
      ]
    },
    {
      "cell_type": "markdown",
      "metadata": {},
      "source": []
    }
  ],
  "metadata": {
    "colab": {
      "name": "2_1.ipynb",
      "provenance": []
    },
    "kernelspec": {
      "display_name": "Python 3",
      "name": "python3"
    },
    "language_info": {
      "name": "python"
    }
  },
  "nbformat": 4,
  "nbformat_minor": 0
}
